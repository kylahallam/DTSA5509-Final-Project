{
 "cells": [
  {
   "cell_type": "code",
   "execution_count": 1,
   "id": "2ada2de4",
   "metadata": {
    "_cell_guid": "b1076dfc-b9ad-4769-8c92-a6c4dae69d19",
    "_uuid": "8f2839f25d086af736a60e9eeb907d3b93b6e0e5",
    "execution": {
     "iopub.execute_input": "2022-08-07T23:17:50.504549Z",
     "iopub.status.busy": "2022-08-07T23:17:50.504052Z",
     "iopub.status.idle": "2022-08-07T23:17:50.523105Z",
     "shell.execute_reply": "2022-08-07T23:17:50.521855Z"
    },
    "papermill": {
     "duration": 0.048222,
     "end_time": "2022-08-07T23:17:50.526115",
     "exception": false,
     "start_time": "2022-08-07T23:17:50.477893",
     "status": "completed"
    },
    "tags": []
   },
   "outputs": [
    {
     "name": "stdout",
     "output_type": "stream",
     "text": [
      "/kaggle/input/ckdisease/kidney_disease.csv\n"
     ]
    }
   ],
   "source": [
    "# This Python 3 environment comes with many helpful analytics libraries installed\n",
    "# It is defined by the kaggle/python Docker image: https://github.com/kaggle/docker-python\n",
    "# For example, here's several helpful packages to load\n",
    "\n",
    "import numpy as np # linear algebra\n",
    "import pandas as pd # data processing, CSV file I/O (e.g. pd.read_csv)\n",
    "\n",
    "# Input data files are available in the read-only \"../input/\" directory\n",
    "# For example, running this (by clicking run or pressing Shift+Enter) will list all files under the input directory\n",
    "\n",
    "import os\n",
    "for dirname, _, filenames in os.walk('/kaggle/input'):\n",
    "    for filename in filenames:\n",
    "        print(os.path.join(dirname, filename))\n",
    "\n",
    "# You can write up to 20GB to the current directory (/kaggle/working/) that gets preserved as output when you create a version using \"Save & Run All\" \n",
    "# You can also write temporary files to /kaggle/temp/, but they won't be saved outside of the current session"
   ]
  },
  {
   "cell_type": "markdown",
   "id": "b0af7f72",
   "metadata": {
    "papermill": {
     "duration": 0.022208,
     "end_time": "2022-08-07T23:17:50.570978",
     "exception": false,
     "start_time": "2022-08-07T23:17:50.548770",
     "status": "completed"
    },
    "tags": []
   },
   "source": [
    "# **Notebook Outline:**\n",
    "#### 1. Project Topic\n",
    "#### 2. Data Overview\n",
    "#### 3. Data Cleaning\n",
    "#### 4. Exploratory Data Analysis\n",
    "#### 5. Models: Build, Results, Analysis\n",
    "#### 6. Discussion\n",
    "#### 7. Sources"
   ]
  },
  {
   "cell_type": "markdown",
   "id": "2921808f",
   "metadata": {
    "papermill": {
     "duration": 0.022346,
     "end_time": "2022-08-07T23:17:50.615730",
     "exception": false,
     "start_time": "2022-08-07T23:17:50.593384",
     "status": "completed"
    },
    "tags": []
   },
   "source": [
    "# **Project Topic:** \n",
    "## **Title**: \n",
    "Predicting Chronic Kidney Disease Using Supervised Machine Learning Classification Techniques \n",
    "## **Overview**: \n",
    "For this project, I will use Logistic Regression, Decision Tree Classifier, and a Random Forest Classifier to perform binary classification for predicting chronic kidney disease and compare the performance of the different models.\n",
    "## **Motivation:**\n",
    "This project has important health impacts for the future diagnosis and treatment of Chronic Kidney Disease (CKD). The kidneys' role in the human body is to fiter waste products and prevent waste accumulation in the system. Chronic Kidney Disease is when a kidney can no longer filter the waste as expected. In the United States alone, 37 million people (or 15% of the population) is estimated to have CKD (https://www.cdc.gov/kidneydisease/publications-resources/ckd-national-facts.html). Furthermore, as many as 9 in every 10 adults with Chronic Kidney Disease (CKD) do not know that they have CKD (https://www.cdc.gov/kidneydisease/publications-resources/ckd-national-facts.html). For these reasons, with CKD being a relatively common health issue and with many sufferers being unaware of the illness, it is important to have methods to diagnose instances of CKD in new patients. By training models to recognize instances of the disease we offer a simple way for future individuals to be diagnosed. \n",
    "On a personal level, this project is very important to me since I was diagnosed with CKD at the age of 16 after falling ill unexpectedly. Until I arrived at the hospital I was unaware that I had CKD. I chose this project so that I can personally better understand predictors of the illness as well as work on a topic that impacts a large number of other individuals. "
   ]
  },
  {
   "cell_type": "markdown",
   "id": "c58a2103",
   "metadata": {
    "papermill": {
     "duration": 0.022089,
     "end_time": "2022-08-07T23:17:50.660171",
     "exception": false,
     "start_time": "2022-08-07T23:17:50.638082",
     "status": "completed"
    },
    "tags": []
   },
   "source": [
    "# **Data Set Description**\n",
    "## **Source**:\n",
    "This dataset is originally from the UCI Machine Learning Repository (https://archive.ics.uci.edu/ml/datasets/chronic_kidney_disease). \n",
    "    \n",
    ">     Dua, D. and Graff, C. (2019). UCI Machine Learning Repository [http://archive.ics.uci.edu/ml]. Irvine, CA: University of California, School of\n",
    "    Information and Computer Science.\n",
    "    \n",
    "I am using the dataset uploaded on kaggle here:\n",
    ">     Iqbal, M. (2017, April 13). Chronic kidney disease dataset. Kaggle. Retrieved August 6, 2022, from https://www.kaggle.com/datasets/mansoordaku/ckdisease\n",
    "\n",
    "## **Data Description**\n",
    "The dataset contains information collected on individuals who presented at a hospital in India over a 2 month period. The data set has 400 instances, 25 attributes, and contains missing values. The following features compose the dataset (from the data description of the data set on the UCI webpage (https://archive.ics.uci.edu/ml/datasets/chronic_kidney_disease#)):\n",
    "* age - Age\n",
    "* bp - Blood Pressure\n",
    "* sg - Specific Gravity\n",
    "* al - Albumin\n",
    "* su - Sugar\n",
    "* rbc - Red Blood Cells\n",
    "* pc -  pus cell\n",
    "* pcc - pus cell clumps\n",
    "* ba - bacteria\n",
    "* bgr - blood glucose random\n",
    "* bu - blood urea\n",
    "* sc - serum creatinine\n",
    "* sod - sodium\n",
    "* pot - potassium\n",
    "* hemo - hemoglobin\n",
    "* pcv - packed cell volume \n",
    "* wc - white blood cell count \n",
    "* rc - red blood cell count\n",
    "* htn - hypertension\n",
    "* dm - diabetes mellitus\n",
    "* cad - coronary artery disease\n",
    "* pe - pedal edema\n",
    "* ane -anemia\n",
    "* classification - class\n",
    "\n",
    "The \"classification\" is the target variable indicating whether the individual has CKD or does not have CKD, hence why the data set is well suited for a binary class classification model"
   ]
  },
  {
   "cell_type": "code",
   "execution_count": 2,
   "id": "dba16a1d",
   "metadata": {
    "execution": {
     "iopub.execute_input": "2022-08-07T23:17:50.707086Z",
     "iopub.status.busy": "2022-08-07T23:17:50.705804Z",
     "iopub.status.idle": "2022-08-07T23:17:52.666503Z",
     "shell.execute_reply": "2022-08-07T23:17:52.665440Z"
    },
    "papermill": {
     "duration": 1.98699,
     "end_time": "2022-08-07T23:17:52.669247",
     "exception": false,
     "start_time": "2022-08-07T23:17:50.682257",
     "status": "completed"
    },
    "tags": []
   },
   "outputs": [],
   "source": [
    "# Importing all key libraries to complete the project\n",
    "import pandas as pd\n",
    "import matplotlib.pyplot as plt\n",
    "import numpy as np\n",
    "import math\n",
    "import seaborn as sns\n",
    "from sklearn.utils import resample\n",
    "from statsmodels.stats.outliers_influence import variance_inflation_factor\n",
    "from statsmodels.tools.tools import add_constant\n",
    "from sklearn.model_selection import train_test_split\n",
    "from sklearn.linear_model import LogisticRegression\n",
    "from sklearn.metrics import roc_curve\n",
    "from sklearn.metrics import roc_auc_score\n",
    "from sklearn.metrics import f1_score\n",
    "import missingno as msno\n",
    "from sklearn.model_selection import cross_val_score, GridSearchCV\n",
    "from imblearn.over_sampling import RandomOverSampler\n",
    "from sklearn.metrics import classification_report\n",
    "from sklearn.metrics import confusion_matrix\n",
    "from sklearn.metrics import ConfusionMatrixDisplay\n",
    "from sklearn.ensemble import RandomForestClassifier\n",
    "from sklearn.tree import DecisionTreeClassifier"
   ]
  },
  {
   "cell_type": "markdown",
   "id": "628324c7",
   "metadata": {
    "papermill": {
     "duration": 0.021758,
     "end_time": "2022-08-07T23:17:52.713780",
     "exception": false,
     "start_time": "2022-08-07T23:17:52.692022",
     "status": "completed"
    },
    "tags": []
   },
   "source": [
    "# **Data Set Overview**\n",
    "In this section, the data set will be examined. First, a high level overview of the data will be presented before delving further into the data to ensure that each observation is correctly considered."
   ]
  },
  {
   "cell_type": "code",
   "execution_count": 3,
   "id": "9d1c6a52",
   "metadata": {
    "execution": {
     "iopub.execute_input": "2022-08-07T23:17:52.760268Z",
     "iopub.status.busy": "2022-08-07T23:17:52.759843Z",
     "iopub.status.idle": "2022-08-07T23:17:52.802011Z",
     "shell.execute_reply": "2022-08-07T23:17:52.800467Z"
    },
    "papermill": {
     "duration": 0.06828,
     "end_time": "2022-08-07T23:17:52.804356",
     "exception": false,
     "start_time": "2022-08-07T23:17:52.736076",
     "status": "completed"
    },
    "tags": []
   },
   "outputs": [
    {
     "name": "stdout",
     "output_type": "stream",
     "text": [
      "<class 'pandas.core.frame.DataFrame'>\n",
      "RangeIndex: 400 entries, 0 to 399\n",
      "Data columns (total 26 columns):\n",
      " #   Column          Non-Null Count  Dtype  \n",
      "---  ------          --------------  -----  \n",
      " 0   id              400 non-null    int64  \n",
      " 1   age             391 non-null    float64\n",
      " 2   bp              388 non-null    float64\n",
      " 3   sg              353 non-null    float64\n",
      " 4   al              354 non-null    float64\n",
      " 5   su              351 non-null    float64\n",
      " 6   rbc             248 non-null    object \n",
      " 7   pc              335 non-null    object \n",
      " 8   pcc             396 non-null    object \n",
      " 9   ba              396 non-null    object \n",
      " 10  bgr             356 non-null    float64\n",
      " 11  bu              381 non-null    float64\n",
      " 12  sc              383 non-null    float64\n",
      " 13  sod             313 non-null    float64\n",
      " 14  pot             312 non-null    float64\n",
      " 15  hemo            348 non-null    float64\n",
      " 16  pcv             330 non-null    object \n",
      " 17  wc              295 non-null    object \n",
      " 18  rc              270 non-null    object \n",
      " 19  htn             398 non-null    object \n",
      " 20  dm              398 non-null    object \n",
      " 21  cad             398 non-null    object \n",
      " 22  appet           399 non-null    object \n",
      " 23  pe              399 non-null    object \n",
      " 24  ane             399 non-null    object \n",
      " 25  classification  400 non-null    object \n",
      "dtypes: float64(11), int64(1), object(14)\n",
      "memory usage: 81.4+ KB\n"
     ]
    }
   ],
   "source": [
    "ckd_data = pd.read_csv('/kaggle/input/ckdisease/kidney_disease.csv') #importing .csv file\n",
    "ckd_data.info() #print a summary of the data set we will use in this project"
   ]
  },
  {
   "cell_type": "markdown",
   "id": "7f3fc1d8",
   "metadata": {
    "papermill": {
     "duration": 0.022404,
     "end_time": "2022-08-07T23:17:52.849170",
     "exception": false,
     "start_time": "2022-08-07T23:17:52.826766",
     "status": "completed"
    },
    "tags": []
   },
   "source": [
    "* There are 400 total observations and 25 feature columns and 1 target column\n",
    "* The informational summary displays the null count of the data set. It is evident that there are several instances of missing data that will need to be cleaned later. \n",
    "* **Classification** is our target variable and describes whether this entry is classified as having CKD or not having CKD. "
   ]
  },
  {
   "cell_type": "code",
   "execution_count": 4,
   "id": "0e47afe6",
   "metadata": {
    "execution": {
     "iopub.execute_input": "2022-08-07T23:17:52.896438Z",
     "iopub.status.busy": "2022-08-07T23:17:52.895504Z",
     "iopub.status.idle": "2022-08-07T23:17:52.930367Z",
     "shell.execute_reply": "2022-08-07T23:17:52.929102Z"
    },
    "papermill": {
     "duration": 0.061415,
     "end_time": "2022-08-07T23:17:52.932966",
     "exception": false,
     "start_time": "2022-08-07T23:17:52.871551",
     "status": "completed"
    },
    "tags": []
   },
   "outputs": [
    {
     "data": {
      "text/html": [
       "<div>\n",
       "<style scoped>\n",
       "    .dataframe tbody tr th:only-of-type {\n",
       "        vertical-align: middle;\n",
       "    }\n",
       "\n",
       "    .dataframe tbody tr th {\n",
       "        vertical-align: top;\n",
       "    }\n",
       "\n",
       "    .dataframe thead th {\n",
       "        text-align: right;\n",
       "    }\n",
       "</style>\n",
       "<table border=\"1\" class=\"dataframe\">\n",
       "  <thead>\n",
       "    <tr style=\"text-align: right;\">\n",
       "      <th></th>\n",
       "      <th>id</th>\n",
       "      <th>age</th>\n",
       "      <th>bp</th>\n",
       "      <th>sg</th>\n",
       "      <th>al</th>\n",
       "      <th>su</th>\n",
       "      <th>rbc</th>\n",
       "      <th>pc</th>\n",
       "      <th>pcc</th>\n",
       "      <th>ba</th>\n",
       "      <th>...</th>\n",
       "      <th>pcv</th>\n",
       "      <th>wc</th>\n",
       "      <th>rc</th>\n",
       "      <th>htn</th>\n",
       "      <th>dm</th>\n",
       "      <th>cad</th>\n",
       "      <th>appet</th>\n",
       "      <th>pe</th>\n",
       "      <th>ane</th>\n",
       "      <th>classification</th>\n",
       "    </tr>\n",
       "  </thead>\n",
       "  <tbody>\n",
       "    <tr>\n",
       "      <th>0</th>\n",
       "      <td>0</td>\n",
       "      <td>48.0</td>\n",
       "      <td>80.0</td>\n",
       "      <td>1.020</td>\n",
       "      <td>1.0</td>\n",
       "      <td>0.0</td>\n",
       "      <td>NaN</td>\n",
       "      <td>normal</td>\n",
       "      <td>notpresent</td>\n",
       "      <td>notpresent</td>\n",
       "      <td>...</td>\n",
       "      <td>44</td>\n",
       "      <td>7800</td>\n",
       "      <td>5.2</td>\n",
       "      <td>yes</td>\n",
       "      <td>yes</td>\n",
       "      <td>no</td>\n",
       "      <td>good</td>\n",
       "      <td>no</td>\n",
       "      <td>no</td>\n",
       "      <td>ckd</td>\n",
       "    </tr>\n",
       "    <tr>\n",
       "      <th>1</th>\n",
       "      <td>1</td>\n",
       "      <td>7.0</td>\n",
       "      <td>50.0</td>\n",
       "      <td>1.020</td>\n",
       "      <td>4.0</td>\n",
       "      <td>0.0</td>\n",
       "      <td>NaN</td>\n",
       "      <td>normal</td>\n",
       "      <td>notpresent</td>\n",
       "      <td>notpresent</td>\n",
       "      <td>...</td>\n",
       "      <td>38</td>\n",
       "      <td>6000</td>\n",
       "      <td>NaN</td>\n",
       "      <td>no</td>\n",
       "      <td>no</td>\n",
       "      <td>no</td>\n",
       "      <td>good</td>\n",
       "      <td>no</td>\n",
       "      <td>no</td>\n",
       "      <td>ckd</td>\n",
       "    </tr>\n",
       "    <tr>\n",
       "      <th>2</th>\n",
       "      <td>2</td>\n",
       "      <td>62.0</td>\n",
       "      <td>80.0</td>\n",
       "      <td>1.010</td>\n",
       "      <td>2.0</td>\n",
       "      <td>3.0</td>\n",
       "      <td>normal</td>\n",
       "      <td>normal</td>\n",
       "      <td>notpresent</td>\n",
       "      <td>notpresent</td>\n",
       "      <td>...</td>\n",
       "      <td>31</td>\n",
       "      <td>7500</td>\n",
       "      <td>NaN</td>\n",
       "      <td>no</td>\n",
       "      <td>yes</td>\n",
       "      <td>no</td>\n",
       "      <td>poor</td>\n",
       "      <td>no</td>\n",
       "      <td>yes</td>\n",
       "      <td>ckd</td>\n",
       "    </tr>\n",
       "    <tr>\n",
       "      <th>3</th>\n",
       "      <td>3</td>\n",
       "      <td>48.0</td>\n",
       "      <td>70.0</td>\n",
       "      <td>1.005</td>\n",
       "      <td>4.0</td>\n",
       "      <td>0.0</td>\n",
       "      <td>normal</td>\n",
       "      <td>abnormal</td>\n",
       "      <td>present</td>\n",
       "      <td>notpresent</td>\n",
       "      <td>...</td>\n",
       "      <td>32</td>\n",
       "      <td>6700</td>\n",
       "      <td>3.9</td>\n",
       "      <td>yes</td>\n",
       "      <td>no</td>\n",
       "      <td>no</td>\n",
       "      <td>poor</td>\n",
       "      <td>yes</td>\n",
       "      <td>yes</td>\n",
       "      <td>ckd</td>\n",
       "    </tr>\n",
       "    <tr>\n",
       "      <th>4</th>\n",
       "      <td>4</td>\n",
       "      <td>51.0</td>\n",
       "      <td>80.0</td>\n",
       "      <td>1.010</td>\n",
       "      <td>2.0</td>\n",
       "      <td>0.0</td>\n",
       "      <td>normal</td>\n",
       "      <td>normal</td>\n",
       "      <td>notpresent</td>\n",
       "      <td>notpresent</td>\n",
       "      <td>...</td>\n",
       "      <td>35</td>\n",
       "      <td>7300</td>\n",
       "      <td>4.6</td>\n",
       "      <td>no</td>\n",
       "      <td>no</td>\n",
       "      <td>no</td>\n",
       "      <td>good</td>\n",
       "      <td>no</td>\n",
       "      <td>no</td>\n",
       "      <td>ckd</td>\n",
       "    </tr>\n",
       "  </tbody>\n",
       "</table>\n",
       "<p>5 rows × 26 columns</p>\n",
       "</div>"
      ],
      "text/plain": [
       "   id   age    bp     sg   al   su     rbc        pc         pcc          ba  \\\n",
       "0   0  48.0  80.0  1.020  1.0  0.0     NaN    normal  notpresent  notpresent   \n",
       "1   1   7.0  50.0  1.020  4.0  0.0     NaN    normal  notpresent  notpresent   \n",
       "2   2  62.0  80.0  1.010  2.0  3.0  normal    normal  notpresent  notpresent   \n",
       "3   3  48.0  70.0  1.005  4.0  0.0  normal  abnormal     present  notpresent   \n",
       "4   4  51.0  80.0  1.010  2.0  0.0  normal    normal  notpresent  notpresent   \n",
       "\n",
       "   ...  pcv    wc   rc  htn   dm  cad appet   pe  ane classification  \n",
       "0  ...   44  7800  5.2  yes  yes   no  good   no   no            ckd  \n",
       "1  ...   38  6000  NaN   no   no   no  good   no   no            ckd  \n",
       "2  ...   31  7500  NaN   no  yes   no  poor   no  yes            ckd  \n",
       "3  ...   32  6700  3.9  yes   no   no  poor  yes  yes            ckd  \n",
       "4  ...   35  7300  4.6   no   no   no  good   no   no            ckd  \n",
       "\n",
       "[5 rows x 26 columns]"
      ]
     },
     "execution_count": 4,
     "metadata": {},
     "output_type": "execute_result"
    }
   ],
   "source": [
    "ckd_data.head() # examine the first 5 entries of the data."
   ]
  },
  {
   "cell_type": "markdown",
   "id": "e75c3650",
   "metadata": {
    "papermill": {
     "duration": 0.022668,
     "end_time": "2022-08-07T23:17:52.979820",
     "exception": false,
     "start_time": "2022-08-07T23:17:52.957152",
     "status": "completed"
    },
    "tags": []
   },
   "source": [
    "Within the dataset, there are both numerical and categorical entries. There are 11 numeric and 14 categorical feature types as well as a binary class target variable"
   ]
  },
  {
   "cell_type": "markdown",
   "id": "96ecb287",
   "metadata": {
    "papermill": {
     "duration": 0.022777,
     "end_time": "2022-08-07T23:17:53.026109",
     "exception": false,
     "start_time": "2022-08-07T23:17:53.003332",
     "status": "completed"
    },
    "tags": []
   },
   "source": [
    "# **Data Cleaning**"
   ]
  },
  {
   "cell_type": "markdown",
   "id": "2b0711c0",
   "metadata": {
    "papermill": {
     "duration": 0.022571,
     "end_time": "2022-08-07T23:17:53.071455",
     "exception": false,
     "start_time": "2022-08-07T23:17:53.048884",
     "status": "completed"
    },
    "tags": []
   },
   "source": [
    "#### Overview: In this section, the data set will be prepared for use in the machine learning model. This requires several tasks:\n",
    "1. Remove extraneous features\n",
    "2. Check for a balanced data set\n",
    "3. Examine data set for missing values \n",
    "    * Decide whether data set is eligible for Complete Case Analysis (CCA)\n",
    "    * Remove features with too many NaNs\n",
    "    * Impute any features with NaNs below a defined threshold\n",
    "    \n",
    "\n",
    "4. Any other data cleaning techniques that are appropriate for this particular data set. "
   ]
  },
  {
   "cell_type": "markdown",
   "id": "7a4d2083",
   "metadata": {
    "papermill": {
     "duration": 0.022399,
     "end_time": "2022-08-07T23:17:53.116649",
     "exception": false,
     "start_time": "2022-08-07T23:17:53.094250",
     "status": "completed"
    },
    "tags": []
   },
   "source": [
    "## 1.  Remove Extraneous Features\n",
    "ID is a redundant feature that needs to be removed, as it is a number assigned to the patient entry and is not used in prediction."
   ]
  },
  {
   "cell_type": "code",
   "execution_count": 5,
   "id": "43dcc527",
   "metadata": {
    "execution": {
     "iopub.execute_input": "2022-08-07T23:17:53.165128Z",
     "iopub.status.busy": "2022-08-07T23:17:53.164290Z",
     "iopub.status.idle": "2022-08-07T23:17:53.180057Z",
     "shell.execute_reply": "2022-08-07T23:17:53.178629Z"
    },
    "papermill": {
     "duration": 0.042567,
     "end_time": "2022-08-07T23:17:53.182454",
     "exception": false,
     "start_time": "2022-08-07T23:17:53.139887",
     "status": "completed"
    },
    "tags": []
   },
   "outputs": [
    {
     "name": "stdout",
     "output_type": "stream",
     "text": [
      "<class 'pandas.core.frame.DataFrame'>\n",
      "RangeIndex: 400 entries, 0 to 399\n",
      "Data columns (total 25 columns):\n",
      " #   Column          Non-Null Count  Dtype  \n",
      "---  ------          --------------  -----  \n",
      " 0   age             391 non-null    float64\n",
      " 1   bp              388 non-null    float64\n",
      " 2   sg              353 non-null    float64\n",
      " 3   al              354 non-null    float64\n",
      " 4   su              351 non-null    float64\n",
      " 5   rbc             248 non-null    object \n",
      " 6   pc              335 non-null    object \n",
      " 7   pcc             396 non-null    object \n",
      " 8   ba              396 non-null    object \n",
      " 9   bgr             356 non-null    float64\n",
      " 10  bu              381 non-null    float64\n",
      " 11  sc              383 non-null    float64\n",
      " 12  sod             313 non-null    float64\n",
      " 13  pot             312 non-null    float64\n",
      " 14  hemo            348 non-null    float64\n",
      " 15  pcv             330 non-null    object \n",
      " 16  wc              295 non-null    object \n",
      " 17  rc              270 non-null    object \n",
      " 18  htn             398 non-null    object \n",
      " 19  dm              398 non-null    object \n",
      " 20  cad             398 non-null    object \n",
      " 21  appet           399 non-null    object \n",
      " 22  pe              399 non-null    object \n",
      " 23  ane             399 non-null    object \n",
      " 24  classification  400 non-null    object \n",
      "dtypes: float64(11), object(14)\n",
      "memory usage: 78.2+ KB\n"
     ]
    }
   ],
   "source": [
    "ckd_data.drop('id', axis = 1, inplace = True) # drop the ID column\n",
    "ckd_data.info() #show that the id column has been dropped"
   ]
  },
  {
   "cell_type": "markdown",
   "id": "7429315c",
   "metadata": {
    "papermill": {
     "duration": 0.022552,
     "end_time": "2022-08-07T23:17:53.227887",
     "exception": false,
     "start_time": "2022-08-07T23:17:53.205335",
     "status": "completed"
    },
    "tags": []
   },
   "source": [
    "## 2. Check For Balanced Data Set\n",
    "First, list the classes for the target variable:"
   ]
  },
  {
   "cell_type": "code",
   "execution_count": 6,
   "id": "ccb0da51",
   "metadata": {
    "execution": {
     "iopub.execute_input": "2022-08-07T23:17:53.276904Z",
     "iopub.status.busy": "2022-08-07T23:17:53.276092Z",
     "iopub.status.idle": "2022-08-07T23:17:53.284058Z",
     "shell.execute_reply": "2022-08-07T23:17:53.283009Z"
    },
    "papermill": {
     "duration": 0.035107,
     "end_time": "2022-08-07T23:17:53.286352",
     "exception": false,
     "start_time": "2022-08-07T23:17:53.251245",
     "status": "completed"
    },
    "tags": []
   },
   "outputs": [
    {
     "data": {
      "text/plain": [
       "array(['ckd', 'ckd\\t', 'notckd'], dtype=object)"
      ]
     },
     "execution_count": 6,
     "metadata": {},
     "output_type": "execute_result"
    }
   ],
   "source": [
    "ckd_data.classification.unique() #Taking a closer look at what the Classification instances look like"
   ]
  },
  {
   "cell_type": "markdown",
   "id": "2a0232f2",
   "metadata": {
    "papermill": {
     "duration": 0.022921,
     "end_time": "2022-08-07T23:17:53.332250",
     "exception": false,
     "start_time": "2022-08-07T23:17:53.309329",
     "status": "completed"
    },
    "tags": []
   },
   "source": [
    "Based on the examination above, there is a typo in the dataset, incorrectly coding \"ckd\" as both \"ckd\" and \"ckd\\t.\" This needs to be fixed before the data set can be checked for class imbalance."
   ]
  },
  {
   "cell_type": "code",
   "execution_count": 7,
   "id": "90a46f10",
   "metadata": {
    "execution": {
     "iopub.execute_input": "2022-08-07T23:17:53.381205Z",
     "iopub.status.busy": "2022-08-07T23:17:53.380394Z",
     "iopub.status.idle": "2022-08-07T23:17:53.389486Z",
     "shell.execute_reply": "2022-08-07T23:17:53.388337Z"
    },
    "papermill": {
     "duration": 0.036284,
     "end_time": "2022-08-07T23:17:53.391825",
     "exception": false,
     "start_time": "2022-08-07T23:17:53.355541",
     "status": "completed"
    },
    "tags": []
   },
   "outputs": [
    {
     "data": {
      "text/plain": [
       "array(['ckd', 'notckd'], dtype=object)"
      ]
     },
     "execution_count": 7,
     "metadata": {},
     "output_type": "execute_result"
    }
   ],
   "source": [
    "ckd_data.classification = ckd_data.classification.replace('ckd\\t', 'ckd') #here we replace every instance of ckd\\t with ckd\n",
    "ckd_data.classification.unique() #verify that replacement was successful"
   ]
  },
  {
   "cell_type": "markdown",
   "id": "5b8cd676",
   "metadata": {
    "papermill": {
     "duration": 0.022706,
     "end_time": "2022-08-07T23:17:53.437594",
     "exception": false,
     "start_time": "2022-08-07T23:17:53.414888",
     "status": "completed"
    },
    "tags": []
   },
   "source": [
    "We will now determine if the data set is balanced or unbalanced by comparing the number of observations with \"CKD\" vs number of observations with \"Not CKD\""
   ]
  },
  {
   "cell_type": "code",
   "execution_count": 8,
   "id": "839ce1d5",
   "metadata": {
    "execution": {
     "iopub.execute_input": "2022-08-07T23:17:53.486436Z",
     "iopub.status.busy": "2022-08-07T23:17:53.485631Z",
     "iopub.status.idle": "2022-08-07T23:17:53.723540Z",
     "shell.execute_reply": "2022-08-07T23:17:53.722260Z"
    },
    "papermill": {
     "duration": 0.265389,
     "end_time": "2022-08-07T23:17:53.726080",
     "exception": false,
     "start_time": "2022-08-07T23:17:53.460691",
     "status": "completed"
    },
    "tags": []
   },
   "outputs": [
    {
     "data": {
      "text/plain": [
       "<AxesSubplot:title={'center':'Count of CKD vs Not CKD'}>"
      ]
     },
     "execution_count": 8,
     "metadata": {},
     "output_type": "execute_result"
    },
    {
     "data": {
      "image/png": "[encoded data removed]",
      "text/plain": [
       "<Figure size 432x288 with 1 Axes>"
      ]
     },
     "metadata": {
      "needs_background": "light"
     },
     "output_type": "display_data"
    }
   ],
   "source": [
    "classification_counts = ckd_data['classification'].value_counts() #count how many instances of CKD vs not CKD\n",
    "plt.figure()\n",
    "classification_counts.plot(kind='bar', title = 'Count of CKD vs Not CKD') #bar plot of these instances "
   ]
  },
  {
   "cell_type": "markdown",
   "id": "6f830a60",
   "metadata": {
    "papermill": {
     "duration": 0.0233,
     "end_time": "2022-08-07T23:17:53.773616",
     "exception": false,
     "start_time": "2022-08-07T23:17:53.750316",
     "status": "completed"
    },
    "tags": []
   },
   "source": [
    "The above plot demonstrates that the data set is imbalanced, with more instances of CKD in the dataset than instances of NOT CKD. To solve this issue, we can **oversample** the minority class, in this case the NOT CKD instances (Brownlee). The imbalanced data set will be addressed in the model build section of the project."
   ]
  },
  {
   "cell_type": "markdown",
   "id": "7d3180f8",
   "metadata": {
    "papermill": {
     "duration": 0.023444,
     "end_time": "2022-08-07T23:17:53.821210",
     "exception": false,
     "start_time": "2022-08-07T23:17:53.797766",
     "status": "completed"
    },
    "tags": []
   },
   "source": [
    "CKD and NOT CKD will now be encoded as 1 and 0 respectively for future use in the Machine Learning Models."
   ]
  },
  {
   "cell_type": "code",
   "execution_count": 9,
   "id": "286c8237",
   "metadata": {
    "execution": {
     "iopub.execute_input": "2022-08-07T23:17:53.871796Z",
     "iopub.status.busy": "2022-08-07T23:17:53.871130Z",
     "iopub.status.idle": "2022-08-07T23:17:53.879524Z",
     "shell.execute_reply": "2022-08-07T23:17:53.878475Z"
    },
    "papermill": {
     "duration": 0.036081,
     "end_time": "2022-08-07T23:17:53.881582",
     "exception": false,
     "start_time": "2022-08-07T23:17:53.845501",
     "status": "completed"
    },
    "tags": []
   },
   "outputs": [
    {
     "data": {
      "text/plain": [
       "array([1, 0])"
      ]
     },
     "execution_count": 9,
     "metadata": {},
     "output_type": "execute_result"
    }
   ],
   "source": [
    "ckd_data['classification'].replace({'ckd':1, 'notckd':0}, inplace = True) # Since this is a binary class classification, we will encode CKD class as a \"1\" and Not CKD as \"0\"\n",
    "ckd_data.classification.unique() #verify success of replacement"
   ]
  },
  {
   "cell_type": "markdown",
   "id": "187884f5",
   "metadata": {
    "papermill": {
     "duration": 0.023018,
     "end_time": "2022-08-07T23:17:53.928237",
     "exception": false,
     "start_time": "2022-08-07T23:17:53.905219",
     "status": "completed"
    },
    "tags": []
   },
   "source": [
    "## 3. Handle missing values in the data set\n",
    "#### In this section, entries with missing values will be examined. The features with many missing values will either be imputed or dropped."
   ]
  },
  {
   "cell_type": "code",
   "execution_count": 10,
   "id": "7267eccf",
   "metadata": {
    "execution": {
     "iopub.execute_input": "2022-08-07T23:17:53.977823Z",
     "iopub.status.busy": "2022-08-07T23:17:53.977127Z",
     "iopub.status.idle": "2022-08-07T23:17:53.983449Z",
     "shell.execute_reply": "2022-08-07T23:17:53.982371Z"
    },
    "papermill": {
     "duration": 0.033917,
     "end_time": "2022-08-07T23:17:53.985675",
     "exception": false,
     "start_time": "2022-08-07T23:17:53.951758",
     "status": "completed"
    },
    "tags": []
   },
   "outputs": [],
   "source": [
    "nulls = ckd_data.isnull().sum() #Count how many nulls there are in the each feature"
   ]
  },
  {
   "cell_type": "code",
   "execution_count": 11,
   "id": "2064d276",
   "metadata": {
    "execution": {
     "iopub.execute_input": "2022-08-07T23:17:54.035453Z",
     "iopub.status.busy": "2022-08-07T23:17:54.034678Z",
     "iopub.status.idle": "2022-08-07T23:17:54.043311Z",
     "shell.execute_reply": "2022-08-07T23:17:54.041688Z"
    },
    "papermill": {
     "duration": 0.035663,
     "end_time": "2022-08-07T23:17:54.045635",
     "exception": false,
     "start_time": "2022-08-07T23:17:54.009972",
     "status": "completed"
    },
    "tags": []
   },
   "outputs": [
    {
     "name": "stdout",
     "output_type": "stream",
     "text": [
      "age                2.25\n",
      "bp                 3.00\n",
      "sg                11.75\n",
      "al                11.50\n",
      "su                12.25\n",
      "rbc               38.00\n",
      "pc                16.25\n",
      "pcc                1.00\n",
      "ba                 1.00\n",
      "bgr               11.00\n",
      "bu                 4.75\n",
      "sc                 4.25\n",
      "sod               21.75\n",
      "pot               22.00\n",
      "hemo              13.00\n",
      "pcv               17.50\n",
      "wc                26.25\n",
      "rc                32.50\n",
      "htn                0.50\n",
      "dm                 0.50\n",
      "cad                0.50\n",
      "appet              0.25\n",
      "pe                 0.25\n",
      "ane                0.25\n",
      "classification     0.00\n",
      "dtype: float64\n"
     ]
    }
   ],
   "source": [
    "percent_nulls = nulls / ckd_data.shape[0] * 100 # Determine the percent of each feature with nulls\n",
    "print(percent_nulls)"
   ]
  },
  {
   "cell_type": "code",
   "execution_count": 12,
   "id": "8462c3ab",
   "metadata": {
    "execution": {
     "iopub.execute_input": "2022-08-07T23:17:54.095438Z",
     "iopub.status.busy": "2022-08-07T23:17:54.094648Z",
     "iopub.status.idle": "2022-08-07T23:17:56.141392Z",
     "shell.execute_reply": "2022-08-07T23:17:56.139993Z"
    },
    "papermill": {
     "duration": 2.074423,
     "end_time": "2022-08-07T23:17:56.144062",
     "exception": false,
     "start_time": "2022-08-07T23:17:54.069639",
     "status": "completed"
    },
    "tags": []
   },
   "outputs": [
    {
     "data": {
      "text/plain": [
       "<AxesSubplot:>"
      ]
     },
     "execution_count": 12,
     "metadata": {},
     "output_type": "execute_result"
    },
    {
     "data": {
      "image/png": "[encoded data removed]",
      "text/plain": [
       "<Figure size 1728x720 with 3 Axes>"
      ]
     },
     "metadata": {
      "needs_background": "light"
     },
     "output_type": "display_data"
    }
   ],
   "source": [
    "msno.bar(ckd_data) #bar plot to demonstrate the missing values (out of the 400 total observations)"
   ]
  },
  {
   "cell_type": "markdown",
   "id": "0660ed98",
   "metadata": {
    "papermill": {
     "duration": 0.025517,
     "end_time": "2022-08-07T23:17:56.195065",
     "exception": false,
     "start_time": "2022-08-07T23:17:56.169548",
     "status": "completed"
    },
    "tags": []
   },
   "source": [
    "If there had been no nulls, each bar plot entry above would have a value of 400. However, as seen above, there are numerous nulls that will need to be dealt with."
   ]
  },
  {
   "cell_type": "code",
   "execution_count": 13,
   "id": "20aa1f9e",
   "metadata": {
    "execution": {
     "iopub.execute_input": "2022-08-07T23:17:56.245224Z",
     "iopub.status.busy": "2022-08-07T23:17:56.244816Z",
     "iopub.status.idle": "2022-08-07T23:17:56.506771Z",
     "shell.execute_reply": "2022-08-07T23:17:56.505592Z"
    },
    "papermill": {
     "duration": 0.290107,
     "end_time": "2022-08-07T23:17:56.509286",
     "exception": false,
     "start_time": "2022-08-07T23:17:56.219179",
     "status": "completed"
    },
    "tags": []
   },
   "outputs": [
    {
     "data": {
      "text/plain": [
       "Text(0.5, 0, 'Null Count')"
      ]
     },
     "execution_count": 13,
     "metadata": {},
     "output_type": "execute_result"
    },
    {
     "data": {
      "image/png": "[encoded data removed]",
      "text/plain": [
       "<Figure size 432x288 with 1 Axes>"
      ]
     },
     "metadata": {
      "needs_background": "light"
     },
     "output_type": "display_data"
    }
   ],
   "source": [
    "nulls = ckd_data.isnull().sum(axis=0) #count the number of nulls so that a histogram can be plotted\n",
    "null_counts = nulls[nulls>0] #only plot the existing nulls \n",
    "\n",
    "bin_width = 5\n",
    "histogram = plt.hist(null_counts, bins = np.arange(0, 140, bin_width))\n",
    "plt.title('Histogram: Null Counts')\n",
    "plt.ylabel('Number of Features')\n",
    "plt.xlabel('Null Count')"
   ]
  },
  {
   "cell_type": "markdown",
   "id": "e245aa8b",
   "metadata": {
    "papermill": {
     "duration": 0.023932,
     "end_time": "2022-08-07T23:17:56.557909",
     "exception": false,
     "start_time": "2022-08-07T23:17:56.533977",
     "status": "completed"
    },
    "tags": []
   },
   "source": [
    "* #### The data set is not suitable for Complete Case Analysis (CCA) since there are more than 5% of the total observations that have null values. The next step is to examine each feature and determine which to impute and which to drop. CCA was introduced in Programming Assignment I of this course.\n",
    "\n",
    "* #### Any feature with more than 15% of the observations with missing values will be removed, the rest will be imputed. This is because we do not want to remove all of our features (thus losing possible influencers on our prediction, but it is not reasonable to impute above a certain threshold given that additional bias will be introduced) Selecting 15% as the threshold keeps as many features as possible (to account for their influence in the model) while also removing those that have a number of nulls that if imputed would bias the model."
   ]
  },
  {
   "cell_type": "markdown",
   "id": "27af18eb",
   "metadata": {
    "papermill": {
     "duration": 0.024087,
     "end_time": "2022-08-07T23:17:56.606373",
     "exception": false,
     "start_time": "2022-08-07T23:17:56.582286",
     "status": "completed"
    },
    "tags": []
   },
   "source": [
    "Next, determine which features fall into the category of imputation versus those that need to be removed from the dataset:"
   ]
  },
  {
   "cell_type": "code",
   "execution_count": 14,
   "id": "6bff73f0",
   "metadata": {
    "execution": {
     "iopub.execute_input": "2022-08-07T23:17:56.657686Z",
     "iopub.status.busy": "2022-08-07T23:17:56.657261Z",
     "iopub.status.idle": "2022-08-07T23:17:56.676422Z",
     "shell.execute_reply": "2022-08-07T23:17:56.675333Z"
    },
    "papermill": {
     "duration": 0.04779,
     "end_time": "2022-08-07T23:17:56.679075",
     "exception": false,
     "start_time": "2022-08-07T23:17:56.631285",
     "status": "completed"
    },
    "tags": []
   },
   "outputs": [
    {
     "name": "stdout",
     "output_type": "stream",
     "text": [
      "17 Index(['age', 'bp', 'sg', 'al', 'su', 'pcc', 'ba', 'bgr', 'bu', 'sc', 'hemo',\n",
      "       'htn', 'dm', 'cad', 'appet', 'pe', 'ane'],\n",
      "      dtype='object')\n",
      "7 Index(['rbc', 'pc', 'sod', 'pot', 'pcv', 'wc', 'rc'], dtype='object')\n"
     ]
    },
    {
     "name": "stderr",
     "output_type": "stream",
     "text": [
      "/opt/conda/lib/python3.7/site-packages/ipykernel_launcher.py:2: FutureWarning: Index.__and__ operating as a set operation is deprecated, in the future this will be a logical operation matching Series.__and__.  Use index.intersection(other) instead\n",
      "  \n"
     ]
    }
   ],
   "source": [
    "# this will calc which features have nulls (ie need to be cleaned) but have less than 15% of observations missing\n",
    "features_to_impute = ckd_data.columns[(ckd_data.isnull().sum()/len(ckd_data)<0.15)] & ckd_data.columns[(ckd_data.isnull().sum()/len(ckd_data)>0)] \n",
    "# this will calc which features have more than 105 of observations missing and need to be thrown away\n",
    "features_to_throw = ckd_data.columns[(ckd_data.isnull().sum()/len(ckd_data))>=0.15] \n",
    "\n",
    "print(len(features_to_impute), features_to_impute)\n",
    "print(len(features_to_throw), features_to_throw)"
   ]
  },
  {
   "cell_type": "markdown",
   "id": "73a7680a",
   "metadata": {
    "papermill": {
     "duration": 0.024326,
     "end_time": "2022-08-07T23:17:56.728115",
     "exception": false,
     "start_time": "2022-08-07T23:17:56.703789",
     "status": "completed"
    },
    "tags": []
   },
   "source": [
    "Based on the information above, 17 features will need to be imputed (treated to replace the missing values) and 7 features will need to be removed.\n",
    "\n",
    "Now, use the \"features to throw\" above to get rid of any features with too many missing values:"
   ]
  },
  {
   "cell_type": "code",
   "execution_count": 15,
   "id": "adc13f32",
   "metadata": {
    "execution": {
     "iopub.execute_input": "2022-08-07T23:17:56.779096Z",
     "iopub.status.busy": "2022-08-07T23:17:56.778651Z",
     "iopub.status.idle": "2022-08-07T23:17:56.794667Z",
     "shell.execute_reply": "2022-08-07T23:17:56.793250Z"
    },
    "papermill": {
     "duration": 0.044169,
     "end_time": "2022-08-07T23:17:56.797190",
     "exception": false,
     "start_time": "2022-08-07T23:17:56.753021",
     "status": "completed"
    },
    "tags": []
   },
   "outputs": [
    {
     "name": "stdout",
     "output_type": "stream",
     "text": [
      "<class 'pandas.core.frame.DataFrame'>\n",
      "RangeIndex: 400 entries, 0 to 399\n",
      "Data columns (total 18 columns):\n",
      " #   Column          Non-Null Count  Dtype  \n",
      "---  ------          --------------  -----  \n",
      " 0   age             391 non-null    float64\n",
      " 1   bp              388 non-null    float64\n",
      " 2   sg              353 non-null    float64\n",
      " 3   al              354 non-null    float64\n",
      " 4   su              351 non-null    float64\n",
      " 5   pcc             396 non-null    object \n",
      " 6   ba              396 non-null    object \n",
      " 7   bgr             356 non-null    float64\n",
      " 8   bu              381 non-null    float64\n",
      " 9   sc              383 non-null    float64\n",
      " 10  hemo            348 non-null    float64\n",
      " 11  htn             398 non-null    object \n",
      " 12  dm              398 non-null    object \n",
      " 13  cad             398 non-null    object \n",
      " 14  appet           399 non-null    object \n",
      " 15  pe              399 non-null    object \n",
      " 16  ane             399 non-null    object \n",
      " 17  classification  400 non-null    int64  \n",
      "dtypes: float64(9), int64(1), object(8)\n",
      "memory usage: 56.4+ KB\n"
     ]
    }
   ],
   "source": [
    "clean_ckd = ckd_data.drop(features_to_throw, axis=1) #remove the \"features to throw\", ie those with more than 15% of entries missing\n",
    "clean_ckd.info() #print out new data frame summary with the removed features"
   ]
  },
  {
   "cell_type": "markdown",
   "id": "f5497eae",
   "metadata": {
    "papermill": {
     "duration": 0.024041,
     "end_time": "2022-08-07T23:17:56.846110",
     "exception": false,
     "start_time": "2022-08-07T23:17:56.822069",
     "status": "completed"
    },
    "tags": []
   },
   "source": [
    "Now that the features with too many missing values have been removed, it is time to clean the data further by imputing the missing values in the \"features to impute\" list. The method of imputation will depend on the type of data. A categorical data type will be replaced with the most commonly occuring entry, while a numerical data type null will be replaced with the mode. "
   ]
  },
  {
   "cell_type": "code",
   "execution_count": 16,
   "id": "de240cdd",
   "metadata": {
    "execution": {
     "iopub.execute_input": "2022-08-07T23:17:56.897570Z",
     "iopub.status.busy": "2022-08-07T23:17:56.897106Z",
     "iopub.status.idle": "2022-08-07T23:17:56.915669Z",
     "shell.execute_reply": "2022-08-07T23:17:56.914193Z"
    },
    "papermill": {
     "duration": 0.047666,
     "end_time": "2022-08-07T23:17:56.918444",
     "exception": false,
     "start_time": "2022-08-07T23:17:56.870778",
     "status": "completed"
    },
    "tags": []
   },
   "outputs": [
    {
     "name": "stdout",
     "output_type": "stream",
     "text": [
      "age [48.  7. 62. 51. 60. 68. 24. 52. 53. 50. 63. 40. 47. 61. 21. 42. 75. 69.\n",
      " nan 73. 70. 65. 76. 72. 82. 46. 45. 35. 54. 11. 59. 67. 15. 55. 44. 26.\n",
      " 64. 56.  5. 74. 38. 58. 71. 34. 17. 12. 43. 41. 57.  8. 39. 66. 81. 14.\n",
      " 27. 83. 30.  4.  3.  6. 32. 80. 49. 90. 78. 19.  2. 33. 36. 37. 23. 25.\n",
      " 20. 29. 28. 22. 79.] float64\n",
      "bp [ 80.  50.  70.  90.  nan 100.  60. 110. 140. 180. 120.] float64\n",
      "sg [1.02  1.01  1.005 1.015   nan 1.025] float64\n",
      "al [ 1.  4.  2.  3.  0. nan  5.] float64\n",
      "su [ 0.  3.  4.  1. nan  2.  5.] float64\n",
      "pcc ['notpresent' 'present' nan] object\n",
      "ba ['notpresent' 'present' nan] object\n",
      "bgr [121.  nan 423. 117. 106.  74. 100. 410. 138.  70. 490. 380. 208.  98.\n",
      " 157.  76.  99. 114. 263. 173.  95. 108. 156. 264. 123.  93. 107. 159.\n",
      " 140. 171. 270.  92. 137. 204.  79. 207. 124. 144.  91. 162. 246. 253.\n",
      " 141. 182.  86. 150. 146. 425. 112. 250. 360. 163. 129. 133. 102. 158.\n",
      " 165. 132. 104. 127. 415. 169. 251. 109. 280. 210. 219. 295.  94. 172.\n",
      " 101. 298. 153.  88. 226. 143. 115.  89. 297. 233. 294. 323. 125.  90.\n",
      " 308. 118. 224. 128. 122. 214. 213. 268. 256.  84. 105. 288. 139.  78.\n",
      " 273. 242. 424. 303. 148. 160. 192. 307. 220. 447. 309.  22. 111. 261.\n",
      " 215. 234. 131. 352.  80. 239. 110. 130. 184. 252. 113. 230. 341. 255.\n",
      " 103. 238. 248. 120. 241. 269. 201. 203. 463. 176.  82. 119.  97.  96.\n",
      "  81. 116. 134.  85.  83.  87.  75.] float64\n",
      "bu [ 36.   18.   53.   56.   26.   25.   54.   31.   60.  107.   55.   72.\n",
      "  86.   90.  162.   46.   87.   27.  148.  180.  163.    nan  50.   75.\n",
      "  45.   28.  155.   33.   39.  153.   29.   65.  103.   70.   80.   20.\n",
      " 202.   77.   89.   24.   17.   32.  114.   66.   38.  164.  142.   96.\n",
      " 391.   15.  111.   73.   19.   92.   35.   16.  139.   48.   85.   98.\n",
      " 186.   37.   47.   52.   82.   51.  106.   22.  217.   88.  118.   50.1\n",
      "  71.   34.   40.   21.  219.   30.  125.  166.   49.  208.  176.   68.\n",
      " 145.  165.  322.   23.  235.  132.   76.   42.   44.   41.  113.    1.5\n",
      " 146.   58.  133.  137.   67.  115.  223.   98.6 158.   94.   74.  150.\n",
      "  61.   57.   95.  191.   93.  241.   64.   79.  215.  309.   10. ] float64\n",
      "sc [ 1.2   0.8   1.8   3.8   1.4   1.1  24.    1.9   7.2   4.    2.7   2.1\n",
      "  4.6   4.1   9.6   2.2   5.2   1.3   1.6   3.9  76.    7.7    nan  2.4\n",
      "  7.3   1.5   2.5   2.    3.4   0.7   1.   10.8   6.3   5.9   0.9   3.\n",
      "  3.25  9.7   6.4   3.2  32.    0.6   6.1   3.3   6.7   8.5   2.8  15.\n",
      "  2.9   1.7   3.6   5.6   6.5   4.4  10.2  11.5   0.5  12.2   5.3   9.2\n",
      " 13.8  16.9   6.    7.1  18.    2.3  13.   48.1  14.2  16.4   2.6   7.5\n",
      "  4.3  18.1  11.8   9.3   6.8  13.5  12.8  11.9  12.   13.4  15.2  13.3\n",
      "  0.4 ] float64\n",
      "hemo [15.4 11.3  9.6 11.2 11.6 12.2 12.4 10.8  9.5  9.4  9.7  9.8  5.6  7.6\n",
      " 12.6 12.1 12.7 10.3  7.7 10.9  nan 11.1  9.9 12.5 12.9 10.1 12.  13.\n",
      "  7.9  9.3 15.  10.   8.6 13.6 10.2 10.5  6.6 11.   7.5 15.6 15.2  4.8\n",
      "  9.1  8.1 11.9 13.5  8.3  7.1 16.1 10.4  9.2  6.2 13.9 14.1  6.  11.8\n",
      " 11.7 11.4 14.   8.2 13.2  6.1  8.  12.3  8.4 14.3  9.   8.7 10.6 13.1\n",
      " 10.7  5.5  5.8  6.8  8.8  8.5 13.8 11.5  7.3 13.7 12.8 13.4  6.3  3.1\n",
      " 17.  15.9 14.5 15.5 16.2 14.4 14.2 16.3 14.8 16.5 15.7 13.3 14.6 16.4\n",
      " 16.9 16.  14.7 16.6 14.9 16.7 16.8 15.8 15.1 17.1 17.2 15.3 17.3 17.4\n",
      " 17.7 17.8 17.5 17.6] float64\n",
      "htn ['yes' 'no' nan] object\n",
      "dm ['yes' 'no' ' yes' '\\tno' '\\tyes' nan] object\n",
      "cad ['no' 'yes' '\\tno' nan] object\n",
      "appet ['good' 'poor' nan] object\n",
      "pe ['no' 'yes' nan] object\n",
      "ane ['no' 'yes' nan] object\n",
      "classification [1 0] int64\n"
     ]
    }
   ],
   "source": [
    "for columns in clean_ckd.columns:\n",
    "    print(columns, (clean_ckd[columns].unique()), clean_ckd[columns].dtype) #examining the unique values within the dataset before continuing"
   ]
  },
  {
   "cell_type": "markdown",
   "id": "33a302fd",
   "metadata": {
    "papermill": {
     "duration": 0.024382,
     "end_time": "2022-08-07T23:17:56.969218",
     "exception": false,
     "start_time": "2022-08-07T23:17:56.944836",
     "status": "completed"
    },
    "tags": []
   },
   "source": [
    "As is evident, some of the features have some typos and will need to be cleaned before continuing with imputation."
   ]
  },
  {
   "cell_type": "code",
   "execution_count": 17,
   "id": "ddb250f9",
   "metadata": {
    "execution": {
     "iopub.execute_input": "2022-08-07T23:17:57.021713Z",
     "iopub.status.busy": "2022-08-07T23:17:57.021340Z",
     "iopub.status.idle": "2022-08-07T23:17:57.034294Z",
     "shell.execute_reply": "2022-08-07T23:17:57.032320Z"
    },
    "papermill": {
     "duration": 0.04301,
     "end_time": "2022-08-07T23:17:57.037672",
     "exception": false,
     "start_time": "2022-08-07T23:17:56.994662",
     "status": "completed"
    },
    "tags": []
   },
   "outputs": [
    {
     "name": "stdout",
     "output_type": "stream",
     "text": [
      "dm ['yes' 'no' nan]\n",
      "cad ['yes' 'no' nan]\n"
     ]
    }
   ],
   "source": [
    "# Replace DM errors \n",
    "clean_ckd.dm = clean_ckd.dm.replace(' yes', 'yes') #here we replace every instance of yes with an extra space with yes\n",
    "clean_ckd.dm = clean_ckd.dm.replace('\\tyes', 'yes') # fixing another error\n",
    "clean_ckd.dm = clean_ckd.dm.replace('\\tno', 'no')\n",
    "print('dm',clean_ckd.dm.unique()) #verify that replacement was successful\n",
    "\n",
    "#Replace CAD errors\n",
    "clean_ckd.cad = clean_ckd.cad.replace('\\tno', 'no')\n",
    "print('cad', clean_ckd.dm.unique())"
   ]
  },
  {
   "cell_type": "markdown",
   "id": "b7abb18f",
   "metadata": {
    "papermill": {
     "duration": 0.02464,
     "end_time": "2022-08-07T23:17:57.087908",
     "exception": false,
     "start_time": "2022-08-07T23:17:57.063268",
     "status": "completed"
    },
    "tags": []
   },
   "source": [
    "Now that we have replaced the typos, we will encode each categorical variable with a binary 0/1 (as we did with the classification target variable) for ease of data analysis"
   ]
  },
  {
   "cell_type": "code",
   "execution_count": 18,
   "id": "08cfd2ab",
   "metadata": {
    "execution": {
     "iopub.execute_input": "2022-08-07T23:17:57.140184Z",
     "iopub.status.busy": "2022-08-07T23:17:57.139323Z",
     "iopub.status.idle": "2022-08-07T23:17:57.163498Z",
     "shell.execute_reply": "2022-08-07T23:17:57.162590Z"
    },
    "papermill": {
     "duration": 0.053506,
     "end_time": "2022-08-07T23:17:57.166636",
     "exception": false,
     "start_time": "2022-08-07T23:17:57.113130",
     "status": "completed"
    },
    "tags": []
   },
   "outputs": [
    {
     "name": "stdout",
     "output_type": "stream",
     "text": [
      "<class 'pandas.core.frame.DataFrame'>\n",
      "RangeIndex: 400 entries, 0 to 399\n",
      "Data columns (total 18 columns):\n",
      " #   Column          Non-Null Count  Dtype  \n",
      "---  ------          --------------  -----  \n",
      " 0   age             391 non-null    float64\n",
      " 1   bp              388 non-null    float64\n",
      " 2   sg              353 non-null    float64\n",
      " 3   al              354 non-null    float64\n",
      " 4   su              351 non-null    float64\n",
      " 5   pcc             396 non-null    float64\n",
      " 6   ba              396 non-null    float64\n",
      " 7   bgr             356 non-null    float64\n",
      " 8   bu              381 non-null    float64\n",
      " 9   sc              383 non-null    float64\n",
      " 10  hemo            348 non-null    float64\n",
      " 11  htn             398 non-null    float64\n",
      " 12  dm              398 non-null    float64\n",
      " 13  cad             398 non-null    float64\n",
      " 14  appet           399 non-null    float64\n",
      " 15  pe              399 non-null    float64\n",
      " 16  ane             399 non-null    float64\n",
      " 17  classification  400 non-null    int64  \n",
      "dtypes: float64(17), int64(1)\n",
      "memory usage: 56.4 KB\n"
     ]
    }
   ],
   "source": [
    "clean_ckd['htn'].replace({'yes':1, 'no':0}, inplace = True)\n",
    "clean_ckd['dm'].replace({'yes':1, 'no':0}, inplace = True)\n",
    "clean_ckd['cad'].replace({'yes':1, 'no':0}, inplace = True)\n",
    "clean_ckd['appet'].replace({'good':1, 'poor':0}, inplace = True)\n",
    "clean_ckd['ane'].replace({'yes':1, 'no':0}, inplace = True)\n",
    "clean_ckd['pe'].replace({'yes':1, 'no':0}, inplace = True)\n",
    "clean_ckd['ba'].replace({'present':1, 'notpresent':0}, inplace = True)\n",
    "clean_ckd['pcc'].replace({'present':1, 'notpresent':0}, inplace = True)\n",
    "clean_ckd.info()"
   ]
  },
  {
   "cell_type": "markdown",
   "id": "535c1eb8",
   "metadata": {
    "papermill": {
     "duration": 0.024593,
     "end_time": "2022-08-07T23:17:57.217248",
     "exception": false,
     "start_time": "2022-08-07T23:17:57.192655",
     "status": "completed"
    },
    "tags": []
   },
   "source": [
    "Finally, we will replace nulls. For any categorical variable, we will use the mode to "
   ]
  },
  {
   "cell_type": "code",
   "execution_count": 19,
   "id": "f50676c6",
   "metadata": {
    "execution": {
     "iopub.execute_input": "2022-08-07T23:17:57.270631Z",
     "iopub.status.busy": "2022-08-07T23:17:57.270007Z",
     "iopub.status.idle": "2022-08-07T23:17:57.290223Z",
     "shell.execute_reply": "2022-08-07T23:17:57.289179Z"
    },
    "papermill": {
     "duration": 0.049531,
     "end_time": "2022-08-07T23:17:57.292709",
     "exception": false,
     "start_time": "2022-08-07T23:17:57.243178",
     "status": "completed"
    },
    "tags": []
   },
   "outputs": [],
   "source": [
    "clean_ckd['age'].fillna(clean_ckd['age'].mean(),inplace =True)\n",
    "clean_ckd['bp'].fillna(clean_ckd['bp'].mean(),inplace =True)\n",
    "clean_ckd['sg'].fillna(clean_ckd['sg'].mean(),inplace =True)\n",
    "clean_ckd['al'].fillna(clean_ckd['al'].mean(),inplace =True)\n",
    "clean_ckd['su'].fillna(clean_ckd['su'].mean(),inplace =True)\n",
    "clean_ckd['pcc'].fillna(clean_ckd['pcc'].mode()[0],inplace =True)\n",
    "clean_ckd['ba'].fillna(clean_ckd['ba'].mode()[0],inplace =True)\n",
    "clean_ckd['bgr'].fillna(clean_ckd['bgr'].mean(),inplace =True)\n",
    "clean_ckd['bu'].fillna(clean_ckd['bu'].mean(),inplace =True)\n",
    "clean_ckd['sc'].fillna(clean_ckd['sc'].mean(),inplace =True)\n",
    "clean_ckd['hemo'].fillna(clean_ckd['ba'].mean(),inplace =True)\n",
    "clean_ckd['htn'].fillna(clean_ckd['htn'].mode()[0],inplace =True)\n",
    "clean_ckd['dm'].fillna(clean_ckd['dm'].mode()[0],inplace =True)\n",
    "clean_ckd['cad'].fillna(clean_ckd['cad'].mode()[0],inplace =True)\n",
    "clean_ckd['appet'].fillna(clean_ckd['appet'].mode()[0],inplace =True)\n",
    "clean_ckd['pe'].fillna(clean_ckd['pe'].mode()[0],inplace =True)\n",
    "clean_ckd['ane'].fillna(clean_ckd['ane'].mode()[0],inplace =True)"
   ]
  },
  {
   "cell_type": "code",
   "execution_count": 20,
   "id": "fa941399",
   "metadata": {
    "execution": {
     "iopub.execute_input": "2022-08-07T23:17:57.345221Z",
     "iopub.status.busy": "2022-08-07T23:17:57.344783Z",
     "iopub.status.idle": "2022-08-07T23:17:57.357475Z",
     "shell.execute_reply": "2022-08-07T23:17:57.356462Z"
    },
    "papermill": {
     "duration": 0.041617,
     "end_time": "2022-08-07T23:17:57.359972",
     "exception": false,
     "start_time": "2022-08-07T23:17:57.318355",
     "status": "completed"
    },
    "tags": []
   },
   "outputs": [
    {
     "name": "stdout",
     "output_type": "stream",
     "text": [
      "<class 'pandas.core.frame.DataFrame'>\n",
      "RangeIndex: 400 entries, 0 to 399\n",
      "Data columns (total 18 columns):\n",
      " #   Column          Non-Null Count  Dtype  \n",
      "---  ------          --------------  -----  \n",
      " 0   age             400 non-null    float64\n",
      " 1   bp              400 non-null    float64\n",
      " 2   sg              400 non-null    float64\n",
      " 3   al              400 non-null    float64\n",
      " 4   su              400 non-null    float64\n",
      " 5   pcc             400 non-null    float64\n",
      " 6   ba              400 non-null    float64\n",
      " 7   bgr             400 non-null    float64\n",
      " 8   bu              400 non-null    float64\n",
      " 9   sc              400 non-null    float64\n",
      " 10  hemo            400 non-null    float64\n",
      " 11  htn             400 non-null    float64\n",
      " 12  dm              400 non-null    float64\n",
      " 13  cad             400 non-null    float64\n",
      " 14  appet           400 non-null    float64\n",
      " 15  pe              400 non-null    float64\n",
      " 16  ane             400 non-null    float64\n",
      " 17  classification  400 non-null    int64  \n",
      "dtypes: float64(17), int64(1)\n",
      "memory usage: 56.4 KB\n"
     ]
    }
   ],
   "source": [
    "clean_ckd.info()"
   ]
  },
  {
   "cell_type": "markdown",
   "id": "f69c4db9",
   "metadata": {
    "papermill": {
     "duration": 0.024746,
     "end_time": "2022-08-07T23:17:57.410190",
     "exception": false,
     "start_time": "2022-08-07T23:17:57.385444",
     "status": "completed"
    },
    "tags": []
   },
   "source": [
    "#### There are no longer any nulls in the data set! The data is ready to move to the Exploratory Data Analysis Phase."
   ]
  },
  {
   "cell_type": "markdown",
   "id": "1f140142",
   "metadata": {
    "papermill": {
     "duration": 0.026528,
     "end_time": "2022-08-07T23:17:57.461935",
     "exception": false,
     "start_time": "2022-08-07T23:17:57.435407",
     "status": "completed"
    },
    "tags": []
   },
   "source": [
    "### Discussion of Data Cleaning Results: \n",
    "In this section, the data set was closely examined, cleaned, and prepped for future model training.\n",
    "* **Extraneous Features:** \"ID\" was removed since it did not offer any additional information about the patient and was meant as a numerical patient identifier number not a variable in the data set. \n",
    "* **Imbalance:** As was evident above, this data set was imbalanced, with 150 instances of NOT CKD and 250 instances of CKD. This issue will be addressed in the model build section by oversampling the minority class of the training data set. This is a strategy used in machine learning to address imbalanced (and small size data sets)\n",
    "* **Missing Features:** The data set had a number of missing values and was not suitable for complete case analysis. Each feature with nulls was considered for imputation or removal based on a 15% null value threshold. As a result, seven features were removed and 17 features were imputed (although some had < 1% of nulls). The features were imputated using the mean value if the feature was numerical and mode if the feature was categorical. Imputation was the ideal choice over complete removal over each feature containing nulls, as it is important to maintain as many features as possible to understand the impact each feature has on the target variable. If we removed all features with nulls, there is the risk of having removed features that are contributors to the final classification decision. To account for the imputations, the models will be evaluated with K-Fold Cross Validation.\n",
    "* **Encoding:** There were several categorical features that were encoded to 0/1 since machine learning models need numerical values instead of categorical ones.\n",
    "\n",
    "Ultimately, a combination of tables and plots were used as the visualizations to thoroughly examine the data set. In addition to removing missing features, this section also changed the features values to a binary category (in place of words) further polishing the data set and prepping for the next steps."
   ]
  },
  {
   "cell_type": "markdown",
   "id": "1bed3e79",
   "metadata": {
    "papermill": {
     "duration": 0.025582,
     "end_time": "2022-08-07T23:17:57.513430",
     "exception": false,
     "start_time": "2022-08-07T23:17:57.487848",
     "status": "completed"
    },
    "tags": []
   },
   "source": [
    "# Exploratory Data Analysis (EDA)\n",
    "Now that the data has been cleaned, the next step is to examine any correlation, collinearity, and other feature traits that could impact the results of our model."
   ]
  },
  {
   "cell_type": "markdown",
   "id": "76dcad90",
   "metadata": {
    "papermill": {
     "duration": 0.024825,
     "end_time": "2022-08-07T23:17:57.563506",
     "exception": false,
     "start_time": "2022-08-07T23:17:57.538681",
     "status": "completed"
    },
    "tags": []
   },
   "source": [
    "#### Overview: In this section, the data set will be explored via EDA. This requires several tasks:\n",
    "1. Checking for Correlation\n",
    "2. Checking for Collinearity (additional statistical test)\n",
    "3. Box Plots: Outliers and Data Distribution\n",
    "4. Histograms: Skewness\n",
    "5. Discussion of Findings"
   ]
  },
  {
   "cell_type": "markdown",
   "id": "8f16234c",
   "metadata": {
    "papermill": {
     "duration": 0.024869,
     "end_time": "2022-08-07T23:17:57.613469",
     "exception": false,
     "start_time": "2022-08-07T23:17:57.588600",
     "status": "completed"
    },
    "tags": []
   },
   "source": [
    "## 1. Checking for Correlation "
   ]
  },
  {
   "cell_type": "code",
   "execution_count": 21,
   "id": "2ddec43b",
   "metadata": {
    "execution": {
     "iopub.execute_input": "2022-08-07T23:17:57.666170Z",
     "iopub.status.busy": "2022-08-07T23:17:57.665713Z",
     "iopub.status.idle": "2022-08-07T23:17:59.378048Z",
     "shell.execute_reply": "2022-08-07T23:17:59.376721Z"
    },
    "papermill": {
     "duration": 1.741246,
     "end_time": "2022-08-07T23:17:59.380472",
     "exception": false,
     "start_time": "2022-08-07T23:17:57.639226",
     "status": "completed"
    },
    "tags": []
   },
   "outputs": [
    {
     "data": {
      "text/plain": [
       "<AxesSubplot:>"
      ]
     },
     "execution_count": 21,
     "metadata": {},
     "output_type": "execute_result"
    },
    {
     "data": {
      "image/png": "[encoded data removed]",
      "text/plain": [
       "<Figure size 1080x1080 with 2 Axes>"
      ]
     },
     "metadata": {
      "needs_background": "light"
     },
     "output_type": "display_data"
    }
   ],
   "source": [
    "plt.figure(figsize = (15, 15))\n",
    "sns.heatmap(clean_ckd.corr(), annot = True)"
   ]
  },
  {
   "cell_type": "markdown",
   "id": "cc49f1da",
   "metadata": {
    "papermill": {
     "duration": 0.029649,
     "end_time": "2022-08-07T23:17:59.440072",
     "exception": false,
     "start_time": "2022-08-07T23:17:59.410423",
     "status": "completed"
    },
    "tags": []
   },
   "source": [
    "The heatmap of the correlation matrix displays the relationship between features in the model. The values in a heatmap range from -1 to 1 with 0 indicating that the two variables in question do not have a strong linear relationship. As is evident in the diagonal row, each feature is strongly correlated to itself. \n",
    "\n",
    "It is important to examine this plot for any correlation between two features in the model. A negative number indicates a negative correlation between the variables (for example,the relationship between Specific Gravity (sg) and Albumin (al) at -0.47). \n",
    "\n",
    "A positive number indicates a positive correlation between two variables (for example, the relationship between Sugar (su) and Blood Glucose Random (bgr) at 0.64). This means that as the value for sugar increases the value for blood glucose random will also increase. These two features both measure sugar, one in urine and one in a blood sample. Despite both being measures of sugar, the correlation is still only 0.64, so neither feature will be removed to prevent information loss. We will re-evaluate this decision in the model section where feature importance will be quantified and some features will be dropped).\n",
    "\n",
    "The feature will the lowest correlation to Classification (the target variable) is Bacteria (Ba) with a value of 0.19."
   ]
  },
  {
   "cell_type": "markdown",
   "id": "edc8d6b5",
   "metadata": {
    "papermill": {
     "duration": 0.027652,
     "end_time": "2022-08-07T23:17:59.496074",
     "exception": false,
     "start_time": "2022-08-07T23:17:59.468422",
     "status": "completed"
    },
    "tags": []
   },
   "source": [
    "## 2. Checking for Collinearity"
   ]
  },
  {
   "cell_type": "code",
   "execution_count": 22,
   "id": "f1ba1338",
   "metadata": {
    "execution": {
     "iopub.execute_input": "2022-08-07T23:17:59.554608Z",
     "iopub.status.busy": "2022-08-07T23:17:59.553531Z",
     "iopub.status.idle": "2022-08-07T23:17:59.606295Z",
     "shell.execute_reply": "2022-08-07T23:17:59.604892Z"
    },
    "papermill": {
     "duration": 0.084703,
     "end_time": "2022-08-07T23:17:59.608842",
     "exception": false,
     "start_time": "2022-08-07T23:17:59.524139",
     "status": "completed"
    },
    "tags": []
   },
   "outputs": [
    {
     "name": "stdout",
     "output_type": "stream",
     "text": [
      "   feature           VIF\n",
      "0    const  55649.698488\n",
      "1      age      1.296185\n",
      "2       bp      1.160811\n",
      "3       sg      1.538183\n",
      "4       al      2.080479\n",
      "5       su      1.899380\n",
      "6      pcc      1.312250\n",
      "7       ba      1.239942\n",
      "8      bgr      1.989178\n",
      "9       bu      2.036582\n",
      "10      sc      1.568016\n",
      "11    hemo      1.325201\n",
      "12     htn      2.230852\n",
      "13      dm      2.110187\n",
      "14     cad      1.229655\n",
      "15   appet      1.402793\n",
      "16      pe      1.520701\n",
      "17     ane      1.395784\n"
     ]
    }
   ],
   "source": [
    "X = add_constant(clean_ckd) # need a constant in order to perform the VIF (acts as the baseline)\n",
    "X.drop('classification', axis = 1, inplace = True) # drop the target variable to only examine the collinearity between features \n",
    "VIF = pd.DataFrame() #create a dataframe to contain the information\n",
    "VIF[\"feature\"] = X.columns #set columns of VIF to be the features\n",
    "VIF[\"VIF\"] = [variance_inflation_factor(X.values, i) \n",
    "               for i in range(X.shape[1])] # calc the VIF for each feature \n",
    "print(VIF)"
   ]
  },
  {
   "cell_type": "markdown",
   "id": "900c7aa4",
   "metadata": {
    "papermill": {
     "duration": 0.028111,
     "end_time": "2022-08-07T23:17:59.665475",
     "exception": false,
     "start_time": "2022-08-07T23:17:59.637364",
     "status": "completed"
    },
    "tags": []
   },
   "source": [
    "The Variable Influence Factor (VIF) indicates the collinearity of one feature with another. A lower value (~1) indicates that there is no collinearity (or minimal collinearity) for that feature. A value greater than one and less than five indicates mild collinearity and a value greater than five indicates strong collinearity  (source: https://www.geeksforgeeks.org/detecting-multicollinearity-with-vif-python/). As is evident from the table above, no feature exhibits strong collinearity and all values are about 2 or less. Therefore, no features will be removed."
   ]
  },
  {
   "cell_type": "markdown",
   "id": "15a016fe",
   "metadata": {
    "papermill": {
     "duration": 0.027853,
     "end_time": "2022-08-07T23:17:59.721487",
     "exception": false,
     "start_time": "2022-08-07T23:17:59.693634",
     "status": "completed"
    },
    "tags": []
   },
   "source": [
    "## 3. Box Plots: Outliers and Data Distribution"
   ]
  },
  {
   "cell_type": "markdown",
   "id": "452f4308",
   "metadata": {
    "papermill": {
     "duration": 0.027331,
     "end_time": "2022-08-07T23:17:59.776830",
     "exception": false,
     "start_time": "2022-08-07T23:17:59.749499",
     "status": "completed"
    },
    "tags": []
   },
   "source": [
    "Now we will look at some boxplots of interest. I have chosen to look at a subset of the total features (i.e. those with numerical values) since these will yield more insight than the binary encoded categorical feature values."
   ]
  },
  {
   "cell_type": "code",
   "execution_count": 23,
   "id": "80844b44",
   "metadata": {
    "execution": {
     "iopub.execute_input": "2022-08-07T23:17:59.836277Z",
     "iopub.status.busy": "2022-08-07T23:17:59.834235Z",
     "iopub.status.idle": "2022-08-07T23:18:00.809337Z",
     "shell.execute_reply": "2022-08-07T23:18:00.808150Z"
    },
    "papermill": {
     "duration": 1.007085,
     "end_time": "2022-08-07T23:18:00.811833",
     "exception": false,
     "start_time": "2022-08-07T23:17:59.804748",
     "status": "completed"
    },
    "tags": []
   },
   "outputs": [
    {
     "data": {
      "image/png": "[encoded data removed]",
      "text/plain": [
       "<Figure size 432x288 with 1 Axes>"
      ]
     },
     "metadata": {
      "needs_background": "light"
     },
     "output_type": "display_data"
    },
    {
     "data": {
      "image/png": "[encoded data removed]",
      "text/plain": [
       "<Figure size 432x288 with 1 Axes>"
      ]
     },
     "metadata": {
      "needs_background": "light"
     },
     "output_type": "display_data"
    },
    {
     "data": {
      "image/png": "[encoded data removed]",
      "text/plain": [
       "<Figure size 432x288 with 1 Axes>"
      ]
     },
     "metadata": {
      "needs_background": "light"
     },
     "output_type": "display_data"
    },
    {
     "data": {
      "image/png": "[encoded data removed]",
      "text/plain": [
       "<Figure size 432x288 with 1 Axes>"
      ]
     },
     "metadata": {
      "needs_background": "light"
     },
     "output_type": "display_data"
    },
    {
     "data": {
      "image/png": "[encoded data removed]",
      "text/plain": [
       "<Figure size 432x288 with 1 Axes>"
      ]
     },
     "metadata": {
      "needs_background": "light"
     },
     "output_type": "display_data"
    },
    {
     "data": {
      "image/png": "[encoded data removed]",
      "text/plain": [
       "<Figure size 432x288 with 1 Axes>"
      ]
     },
     "metadata": {
      "needs_background": "light"
     },
     "output_type": "display_data"
    }
   ],
   "source": [
    "box_plot_features = ['age', 'bp', 'bu', 'hemo', 'bgr', 'su'] #specific subset of features for the boxplots.\n",
    "for c in box_plot_features: # plotting distribution of data for ckd vs not_ckd to understand how data distribution changes.\n",
    "    CKD = clean_ckd[clean_ckd['classification']== 1][c] #split into CKD instances\n",
    "    NOT_CKD = clean_ckd[clean_ckd['classification']== 0][c] #get the NOT CKD instances to compare the two distributions\n",
    "    fig = plt.figure()\n",
    "    ax = fig.add_subplot(111)\n",
    "    ax.boxplot([CKD, NOT_CKD], notch = True, labels = ['CKD', 'NOT_CKD'])\n",
    "    plt.ylabel(c)"
   ]
  },
  {
   "cell_type": "markdown",
   "id": "e89aef9a",
   "metadata": {
    "papermill": {
     "duration": 0.028829,
     "end_time": "2022-08-07T23:18:00.871476",
     "exception": false,
     "start_time": "2022-08-07T23:18:00.842647",
     "status": "completed"
    },
    "tags": []
   },
   "source": [
    "The above box plots compare the distribution of instances of kidney disease vs not kidney disease. It is evident that the data is distributed differently between CKD and not CKD. For the CKD instances, the data distribution is more variable (evidenced by the larger boxes) and there are more outliers. These outliers could be indicative of a disease (i.e. CKD) and therefore should remain in the data set. "
   ]
  },
  {
   "cell_type": "markdown",
   "id": "ade48378",
   "metadata": {
    "papermill": {
     "duration": 0.028536,
     "end_time": "2022-08-07T23:18:00.928886",
     "exception": false,
     "start_time": "2022-08-07T23:18:00.900350",
     "status": "completed"
    },
    "tags": []
   },
   "source": [
    "## 4. Histograms: "
   ]
  },
  {
   "cell_type": "code",
   "execution_count": 24,
   "id": "48f4256f",
   "metadata": {
    "execution": {
     "iopub.execute_input": "2022-08-07T23:18:00.989487Z",
     "iopub.status.busy": "2022-08-07T23:18:00.988320Z",
     "iopub.status.idle": "2022-08-07T23:18:03.298655Z",
     "shell.execute_reply": "2022-08-07T23:18:03.297497Z"
    },
    "papermill": {
     "duration": 2.3433,
     "end_time": "2022-08-07T23:18:03.301090",
     "exception": false,
     "start_time": "2022-08-07T23:18:00.957790",
     "status": "completed"
    },
    "tags": []
   },
   "outputs": [
    {
     "data": {
      "text/plain": [
       "array([[<AxesSubplot:title={'center':'age'}>,\n",
       "        <AxesSubplot:title={'center':'bp'}>,\n",
       "        <AxesSubplot:title={'center':'sg'}>,\n",
       "        <AxesSubplot:title={'center':'al'}>],\n",
       "       [<AxesSubplot:title={'center':'su'}>,\n",
       "        <AxesSubplot:title={'center':'pcc'}>,\n",
       "        <AxesSubplot:title={'center':'ba'}>,\n",
       "        <AxesSubplot:title={'center':'bgr'}>],\n",
       "       [<AxesSubplot:title={'center':'bu'}>,\n",
       "        <AxesSubplot:title={'center':'sc'}>,\n",
       "        <AxesSubplot:title={'center':'hemo'}>,\n",
       "        <AxesSubplot:title={'center':'htn'}>],\n",
       "       [<AxesSubplot:title={'center':'dm'}>,\n",
       "        <AxesSubplot:title={'center':'cad'}>,\n",
       "        <AxesSubplot:title={'center':'appet'}>,\n",
       "        <AxesSubplot:title={'center':'pe'}>],\n",
       "       [<AxesSubplot:title={'center':'ane'}>,\n",
       "        <AxesSubplot:title={'center':'classification'}>, <AxesSubplot:>,\n",
       "        <AxesSubplot:>]], dtype=object)"
      ]
     },
     "execution_count": 24,
     "metadata": {},
     "output_type": "execute_result"
    },
    {
     "data": {
      "image/png": "[encoded data removed]",
      "text/plain": [
       "<Figure size 1152x1152 with 20 Axes>"
      ]
     },
     "metadata": {
      "needs_background": "light"
     },
     "output_type": "display_data"
    }
   ],
   "source": [
    "clean_ckd.hist(figsize = (16, 16)) #plot histogram of each feature"
   ]
  },
  {
   "cell_type": "markdown",
   "id": "3678c2fd",
   "metadata": {
    "papermill": {
     "duration": 0.029609,
     "end_time": "2022-08-07T23:18:03.360851",
     "exception": false,
     "start_time": "2022-08-07T23:18:03.331242",
     "status": "completed"
    },
    "tags": []
   },
   "source": [
    "The histograms show that the distribution of each feature is different. Age is slightly right skewed, indicating more older patients were observed than younger patients. Blood Pressure (bp) is slightly left skewed, with more patients having low bp than high bp. There are a total of 13 features that are left skewed and 4 features that are right skewed as well as one feature that is randomly distributed. The skewness in the data set could impact machine learning model performance for some models types and will need to be taken into consideration when building and evaluating the machine learning models. For this reason, it will be interesting to compare the performance of parametric vs non parametric machine learning models on the data set. Given the skewed dataset, it is expected that the non parametric model (SVM or Random Forest) would outperform a parametric model (logistic regression) since the latter makes assumptions about the fit function and therefore expects a certain format while the non parametric do not make assumptions about the data (James et. al., 22)."
   ]
  },
  {
   "cell_type": "markdown",
   "id": "c0777065",
   "metadata": {
    "papermill": {
     "duration": 0.029967,
     "end_time": "2022-08-07T23:18:03.421911",
     "exception": false,
     "start_time": "2022-08-07T23:18:03.391944",
     "status": "completed"
    },
    "tags": []
   },
   "source": [
    "## 5. Discussion of Exploratory Data Analysis Findings: \n",
    "In this section, the data set closely explored and any data set traits were considered before progressing to building the machine learning models.\n",
    "* **Correlation:** The correlation matrix visually demonstrates the relationship between features and between features and the target variable. As was discussed above, some features are correlated, however, no features were completely correlated (1 or -1). The feature importance will be addressed in the next section and the results of the correlation matrix will be revisited. Overall, the results of the correlation matrix show there is some correlation between features, which is to be expected since the features are all medical measures of bodily function and some are measures of the same type but at different steps in the bodily process (for example sugar is measured from a urine sample while blood glucose random is a measure of sugar in the blood.  \n",
    "* **Collinearity:** An extra statistical test called the Variable Influence Factor (VIF) was conducted to further explore the data set. This statistical test is a measure of collinearity and values above a \"5\" are considered to have strong collinearity. Since none of the features in the data set had a value above the threshold, no features will be removed from the dataset as a result of collinearity.\n",
    "* **Outliers and Data Distribution:** The above boxplots explored the distribution of several numerical features to further explore the data set. Furthermore, the data set was divided into instances of CKD and instances of NOT CKD to compare the distributions and outliers in the data set. Upon inspection, there were outliers present in the CKD group, however, since these outliers could be strong indicators of abnormal body function (i.e. a serious disease or illness) they will not be removed.\n",
    "* **Histograms** The histograms for the features showed that some of the data set features are skewed. This is a good opportunity to compare parametric vs non parametric binary classification machine learning models. It is expected that a non parametric model would outperform a parametric model since the former does not make assumptions about the fit function while the latter expects a certain function format (James et. al., 22). \n",
    "\n",
    "A combination of visualizations (tables, plots, heatmaps) was used to further explore the data set. Now that the data set has been completely examined and cleaned, we can move on to the model build."
   ]
  },
  {
   "cell_type": "markdown",
   "id": "f9d4e123",
   "metadata": {
    "papermill": {
     "duration": 0.029843,
     "end_time": "2022-08-07T23:18:03.482194",
     "exception": false,
     "start_time": "2022-08-07T23:18:03.452351",
     "status": "completed"
    },
    "tags": []
   },
   "source": [
    "# **Models**"
   ]
  },
  {
   "cell_type": "markdown",
   "id": "689335d0",
   "metadata": {
    "papermill": {
     "duration": 0.029968,
     "end_time": "2022-08-07T23:18:03.543142",
     "exception": false,
     "start_time": "2022-08-07T23:18:03.513174",
     "status": "completed"
    },
    "tags": []
   },
   "source": [
    "#### Overview: In this section, the data set will be used to build several machine learning models. This section includes:\n",
    "1. Splitting the Data Set\n",
    "2. Addressing Class Imbalance\n",
    "3. Logistic Regression\n",
    "    * Baseline Case\n",
    "    * Optimization via Feature Importance\n",
    "    * Results and Analysis\n",
    "4. Decision Tree Classifier\n",
    "    * Baseline Case\n",
    "    * Optimization & K-Fold Cross Validation\n",
    "    * Results and Analysis\n",
    "5. Random Forest Classifier\n",
    "    * Baseline Case\n",
    "    * Optimization & K-Fold Cross Validation\n",
    "    * Results and Analysis\n",
    "6. Comparison of Models\n",
    "\n",
    "#### **Model Selection**:\n",
    "The models listed above were chosen in careful consideration of the dataset and type of problem at hand. Since this is a binary class classification problem, the suitable models are Classification models. Furthermore, given the size of the data set and number of features, Logistic Regression, Decision Tree Classifier, and Random Forest Classification were all suitable choices for answering the question.\n",
    "\n",
    "#### **Feature Engineering**:\n",
    "In the section on Data Cleaning, the features were all one hot encoded from their categorical labels to binary 0 and 1. Feature selection based on feature importance will be used to optimize the logistic regression model since there are no hyperparameters in logistic regression.\n",
    "\n",
    "#### **Collinearity**:\n",
    "In the Exploratory Data Analysis section, VIF statistical analysis was used to address any potential collinearity/interation. As discussed above, the data set demonstrates mild collinearity and so no features will be removed before proceeding with the model. It is important to note that collinearity would have an impact on logistic regression and support vector machine while random forest is robust against collinearity due to the sampling methods used to build the model.\n",
    "\n",
    "#### **Performance Metrics**:\n",
    "Since the dataset is imbalanced, accuracy is not the best choice for evaluating model performance. The models will be evaluated and optimized using the f1 score (since this is a good metric for an imbalanced dataset). The f1 score is a single score that represents both the precision and recall of a model. The final models will be evaluated based on f1 score and confusion matrix to have a comprehensive comparison amongst models. The confusion matrix is important for a classification problem in the medical field since the number of false negatives needs to be carefully considered so as to avoid missing a possible diagnosis.\n"
   ]
  },
  {
   "cell_type": "markdown",
   "id": "eb06253e",
   "metadata": {
    "papermill": {
     "duration": 0.029991,
     "end_time": "2022-08-07T23:18:03.603632",
     "exception": false,
     "start_time": "2022-08-07T23:18:03.573641",
     "status": "completed"
    },
    "tags": []
   },
   "source": [
    "## 1. Splitting the Data Set\n",
    "The data set will be split into 60% train, 20% test, and 20% validation. We will use the validation data set to perform K-Fold Cross Validation to mitigate the effects of the imputations and the imbalanced data set discussed in the above section on data cleaning."
   ]
  },
  {
   "cell_type": "code",
   "execution_count": 25,
   "id": "8180ec87",
   "metadata": {
    "execution": {
     "iopub.execute_input": "2022-08-07T23:18:03.666476Z",
     "iopub.status.busy": "2022-08-07T23:18:03.666060Z",
     "iopub.status.idle": "2022-08-07T23:18:03.677140Z",
     "shell.execute_reply": "2022-08-07T23:18:03.676103Z"
    },
    "papermill": {
     "duration": 0.044829,
     "end_time": "2022-08-07T23:18:03.679202",
     "exception": false,
     "start_time": "2022-08-07T23:18:03.634373",
     "status": "completed"
    },
    "tags": []
   },
   "outputs": [
    {
     "name": "stdout",
     "output_type": "stream",
     "text": [
      "train: (240, 17) test: (80, 17) val: (80, 17)\n"
     ]
    }
   ],
   "source": [
    "y = clean_ckd['classification'].values # y values will be the \"labels\" which in this data set are CKD (1) or NOT CKD (0).\n",
    "X = clean_ckd.drop('classification', axis = 1).values # the features and observations are the x values that want to predict the y label\n",
    "x_train, x_test, y_train, y_test = train_test_split(X, y, test_size = 0.2, random_state = 50) # first split into test and train\n",
    "x_train, x_val, y_train, y_val = train_test_split(x_train, y_train, test_size = 0.25, random_state = 50) #then further split the test data to get validation data set\n",
    "\n",
    "print('train:', x_train.shape,'test:', x_test.shape, 'val:', x_val.shape)"
   ]
  },
  {
   "cell_type": "markdown",
   "id": "4cf35b0c",
   "metadata": {
    "papermill": {
     "duration": 0.030315,
     "end_time": "2022-08-07T23:18:03.740363",
     "exception": false,
     "start_time": "2022-08-07T23:18:03.710048",
     "status": "completed"
    },
    "tags": []
   },
   "source": [
    "## 2. Addressing Class Imbalance\n",
    "\n",
    "As was evident in the EDA, there is a class imbalance in this data set. In order to appropriately handle the imbalance, the **training** data set's minority class will be oversampled. Oversampled means that the minority class, in this case NOT CKD, will duplicate instances of observations in order to have the same class number as the majority data class. The oversampling occurs on the training data set only so that the test data set remains unaffected."
   ]
  },
  {
   "cell_type": "code",
   "execution_count": 26,
   "id": "dc16e848",
   "metadata": {
    "execution": {
     "iopub.execute_input": "2022-08-07T23:18:03.804191Z",
     "iopub.status.busy": "2022-08-07T23:18:03.803742Z",
     "iopub.status.idle": "2022-08-07T23:18:03.811874Z",
     "shell.execute_reply": "2022-08-07T23:18:03.810971Z"
    },
    "papermill": {
     "duration": 0.042608,
     "end_time": "2022-08-07T23:18:03.814272",
     "exception": false,
     "start_time": "2022-08-07T23:18:03.771664",
     "status": "completed"
    },
    "tags": []
   },
   "outputs": [],
   "source": [
    "ros = RandomOverSampler(random_state=12)\n",
    "x_train, y_train = ros.fit_resample(x_train, y_train) #oversampling of the minority class so that it is the same size as the majority class"
   ]
  },
  {
   "cell_type": "markdown",
   "id": "d2928237",
   "metadata": {
    "papermill": {
     "duration": 0.030888,
     "end_time": "2022-08-07T23:18:03.875362",
     "exception": false,
     "start_time": "2022-08-07T23:18:03.844474",
     "status": "completed"
    },
    "tags": []
   },
   "source": [
    "## 3. Logistic Regression\n",
    "* ### Baseline Case: \n",
    "The following model is built with no optimization and will be used to compare to the model after optimization and K fold cross validation has been completed."
   ]
  },
  {
   "cell_type": "code",
   "execution_count": 27,
   "id": "8fe80df8",
   "metadata": {
    "execution": {
     "iopub.execute_input": "2022-08-07T23:18:03.939030Z",
     "iopub.status.busy": "2022-08-07T23:18:03.938158Z",
     "iopub.status.idle": "2022-08-07T23:18:03.956831Z",
     "shell.execute_reply": "2022-08-07T23:18:03.954992Z"
    },
    "papermill": {
     "duration": 0.053351,
     "end_time": "2022-08-07T23:18:03.959360",
     "exception": false,
     "start_time": "2022-08-07T23:18:03.906009",
     "status": "completed"
    },
    "tags": []
   },
   "outputs": [
    {
     "name": "stdout",
     "output_type": "stream",
     "text": [
      "              precision    recall  f1-score   support\n",
      "\n",
      "           0       0.80      0.95      0.87        21\n",
      "           1       0.98      0.92      0.95        59\n",
      "\n",
      "    accuracy                           0.93        80\n",
      "   macro avg       0.89      0.93      0.91        80\n",
      "weighted avg       0.93      0.93      0.93        80\n",
      "\n",
      "f1: 0.9473684210526316\n"
     ]
    }
   ],
   "source": [
    "# Baseline Case for Logistic Regression\n",
    "log_reg = LogisticRegression(solver = 'liblinear', class_weight = 'balanced').fit(x_train, y_train) #choose balanced as the class weight since the data set is imbalanced\n",
    "y_pred = log_reg.predict(x_train) \n",
    "yhat = log_reg.predict(x_test)\n",
    "print(classification_report(y_test, yhat)) #generate a report for all metrics\n",
    "log_reg_f1 = f1_score(y_test, yhat) #save the f1 score for later model comparison/evaluation\n",
    "print('f1:', log_reg_f1)"
   ]
  },
  {
   "cell_type": "markdown",
   "id": "90cec6ba",
   "metadata": {
    "papermill": {
     "duration": 0.032117,
     "end_time": "2022-08-07T23:18:04.023449",
     "exception": false,
     "start_time": "2022-08-07T23:18:03.991332",
     "status": "completed"
    },
    "tags": []
   },
   "source": [
    "The f1 metric for the test data set is 0.947. This is already a strong score, but we can try to improve it further by considering feature importance and cross validation.\n",
    "* ### Optimization (Feature Engineering):\n",
    "As discussed in lecture, there is no hyperparameter for a logistic regression model. However, optimization can occur through feature importance and feature selection (a part of feature engineering). This section will use the coefficients generated above to evaluate each feature's importance in the model. This will inform if any features can be removed from the model to improve performance. "
   ]
  },
  {
   "cell_type": "code",
   "execution_count": 28,
   "id": "f079a69d",
   "metadata": {
    "execution": {
     "iopub.execute_input": "2022-08-07T23:18:04.088039Z",
     "iopub.status.busy": "2022-08-07T23:18:04.087329Z",
     "iopub.status.idle": "2022-08-07T23:18:04.355117Z",
     "shell.execute_reply": "2022-08-07T23:18:04.353914Z"
    },
    "papermill": {
     "duration": 0.303288,
     "end_time": "2022-08-07T23:18:04.358135",
     "exception": false,
     "start_time": "2022-08-07T23:18:04.054847",
     "status": "completed"
    },
    "tags": []
   },
   "outputs": [
    {
     "data": {
      "image/png": "[encoded data removed]",
      "text/plain": [
       "<Figure size 576x576 with 1 Axes>"
      ]
     },
     "metadata": {
      "needs_background": "light"
     },
     "output_type": "display_data"
    }
   ],
   "source": [
    "feature_importance = log_reg.coef_[0] #from the logistic regression model we can get the coefficients for each feature\n",
    "features = clean_ckd.drop('classification', axis = 1) #remove the target feature from consideration\n",
    "plt.figure(figsize = (8,8))\n",
    "plt.bar([c for c in features.columns], feature_importance) #bar plot to visually display feature importance\n",
    "plt.xlabel('Feature')\n",
    "plt.ylabel('Score')\n",
    "plt.title('Feature Importance')\n",
    "plt.show()"
   ]
  },
  {
   "cell_type": "markdown",
   "id": "2f07f4da",
   "metadata": {
    "papermill": {
     "duration": 0.030178,
     "end_time": "2022-08-07T23:18:04.419145",
     "exception": false,
     "start_time": "2022-08-07T23:18:04.388967",
     "status": "completed"
    },
    "tags": []
   },
   "source": [
    "The plot above demonstrates that there are several features that do not have a strong influence on the target feature. We will remove the three lowest contributing features and evaluate model performance. The features removed are: age, blood pressure (bp), and blood glucose random (bgr). If you recall the correlation matrix heatmap from the EDA section, it was evident that there was correlation between sugar (su) and blood glucose random (bgr). Now that it has been confirmed that this feature has little impact on target feature prediction, we can remove bgr. "
   ]
  },
  {
   "cell_type": "code",
   "execution_count": 29,
   "id": "fd3b8973",
   "metadata": {
    "execution": {
     "iopub.execute_input": "2022-08-07T23:18:04.482215Z",
     "iopub.status.busy": "2022-08-07T23:18:04.481768Z",
     "iopub.status.idle": "2022-08-07T23:18:04.487639Z",
     "shell.execute_reply": "2022-08-07T23:18:04.486799Z"
    },
    "papermill": {
     "duration": 0.040304,
     "end_time": "2022-08-07T23:18:04.490014",
     "exception": false,
     "start_time": "2022-08-07T23:18:04.449710",
     "status": "completed"
    },
    "tags": []
   },
   "outputs": [],
   "source": [
    "x_train_drop= np.delete(x_train, [0, 1, 7], axis = 1) #remove the three features discussed above from the training set\n",
    "x_test_drop= np.delete(x_test,[0,1,7], axis= 1) #remove the three features discussed above from the test set."
   ]
  },
  {
   "cell_type": "markdown",
   "id": "4acdc1c0",
   "metadata": {
    "papermill": {
     "duration": 0.030224,
     "end_time": "2022-08-07T23:18:04.550486",
     "exception": false,
     "start_time": "2022-08-07T23:18:04.520262",
     "status": "completed"
    },
    "tags": []
   },
   "source": [
    "Now that the features with the lowest coefficients have been removed, a new logistic regression model will be fit using the training data set. It will also be evaluated for any improvement in f1 (recall) performance."
   ]
  },
  {
   "cell_type": "code",
   "execution_count": 30,
   "id": "3a2aaf98",
   "metadata": {
    "execution": {
     "iopub.execute_input": "2022-08-07T23:18:04.613708Z",
     "iopub.status.busy": "2022-08-07T23:18:04.613056Z",
     "iopub.status.idle": "2022-08-07T23:18:04.628112Z",
     "shell.execute_reply": "2022-08-07T23:18:04.626247Z"
    },
    "papermill": {
     "duration": 0.049692,
     "end_time": "2022-08-07T23:18:04.630731",
     "exception": false,
     "start_time": "2022-08-07T23:18:04.581039",
     "status": "completed"
    },
    "tags": []
   },
   "outputs": [
    {
     "name": "stdout",
     "output_type": "stream",
     "text": [
      "              precision    recall  f1-score   support\n",
      "\n",
      "           0       0.83      0.95      0.89        21\n",
      "           1       0.98      0.93      0.96        59\n",
      "\n",
      "    accuracy                           0.94        80\n",
      "   macro avg       0.91      0.94      0.92        80\n",
      "weighted avg       0.94      0.94      0.94        80\n",
      "\n",
      "f1_features: 0.9565217391304348\n"
     ]
    }
   ],
   "source": [
    "log_reg_new = LogisticRegression(solver = 'liblinear', class_weight = 'balanced').fit(x_train_drop, y_train) #fit a model with the updated x_train data set\n",
    "y_pred_drop = log_reg_new.predict(x_train_drop)\n",
    "yhat_drop = log_reg_new.predict(x_test_drop)\n",
    "print(classification_report(y_test, yhat_drop)) #print all metrics \n",
    "log_reg_f1_drop = f1_score(y_test, yhat_drop) #store the f1 variable for future comparison\n",
    "print('f1_features:', log_reg_f1_drop)"
   ]
  },
  {
   "cell_type": "markdown",
   "id": "14fb38e4",
   "metadata": {
    "papermill": {
     "duration": 0.03004,
     "end_time": "2022-08-07T23:18:04.691209",
     "exception": false,
     "start_time": "2022-08-07T23:18:04.661169",
     "status": "completed"
    },
    "tags": []
   },
   "source": [
    "By dropping the features, there f1 score improves from 94.7% to 95.6%. Now, we will confirm feature importance and iterate again by dropping additional features if necessary."
   ]
  },
  {
   "cell_type": "code",
   "execution_count": 31,
   "id": "499856f6",
   "metadata": {
    "execution": {
     "iopub.execute_input": "2022-08-07T23:18:04.753895Z",
     "iopub.status.busy": "2022-08-07T23:18:04.753509Z",
     "iopub.status.idle": "2022-08-07T23:18:05.005970Z",
     "shell.execute_reply": "2022-08-07T23:18:05.004759Z"
    },
    "papermill": {
     "duration": 0.287292,
     "end_time": "2022-08-07T23:18:05.008864",
     "exception": false,
     "start_time": "2022-08-07T23:18:04.721572",
     "status": "completed"
    },
    "tags": []
   },
   "outputs": [
    {
     "data": {
      "image/png": "[encoded data removed]",
      "text/plain": [
       "<Figure size 576x576 with 1 Axes>"
      ]
     },
     "metadata": {
      "needs_background": "light"
     },
     "output_type": "display_data"
    }
   ],
   "source": [
    "feature_importance_2 = log_reg_new.coef_[0] #from the logistic regression model we can get the coefficients for each feature\n",
    "features_2 = clean_ckd.drop('classification', axis = 1)#remove the target feature from consideration\n",
    "features_2.drop('age', axis = 1, inplace = True)\n",
    "features_2.drop('bp', axis = 1, inplace = True)\n",
    "features_2.drop('bgr' , axis = 1, inplace = True)#remove the target feature from consideration\n",
    "plt.figure(figsize = (8,8))\n",
    "plt.bar([c for c in features_2.columns], feature_importance_2) #bar plot to visually display feature importance\n",
    "plt.xlabel('Feature')\n",
    "plt.ylabel('Score')\n",
    "plt.title('Feature Importance')\n",
    "plt.show()"
   ]
  },
  {
   "cell_type": "markdown",
   "id": "239b6391",
   "metadata": {
    "papermill": {
     "duration": 0.030482,
     "end_time": "2022-08-07T23:18:05.070716",
     "exception": false,
     "start_time": "2022-08-07T23:18:05.040234",
     "status": "completed"
    },
    "tags": []
   },
   "source": [
    "'Ba' and 'Bu' both have low feature importance relative to the rest of the features. Will drop these features and re-run the logistic regression model."
   ]
  },
  {
   "cell_type": "code",
   "execution_count": 32,
   "id": "474fb65c",
   "metadata": {
    "execution": {
     "iopub.execute_input": "2022-08-07T23:18:05.135117Z",
     "iopub.status.busy": "2022-08-07T23:18:05.134295Z",
     "iopub.status.idle": "2022-08-07T23:18:05.140556Z",
     "shell.execute_reply": "2022-08-07T23:18:05.139499Z"
    },
    "papermill": {
     "duration": 0.042346,
     "end_time": "2022-08-07T23:18:05.143698",
     "exception": false,
     "start_time": "2022-08-07T23:18:05.101352",
     "status": "completed"
    },
    "tags": []
   },
   "outputs": [],
   "source": [
    "x_train_drop2= np.delete(x_train_drop, [4, 5], axis = 1) #remove the two features discussed above from the training set\n",
    "x_test_drop2= np.delete(x_test_drop,[4, 5], axis= 1) #remove the two features discussed above from the test set."
   ]
  },
  {
   "cell_type": "code",
   "execution_count": 33,
   "id": "538a8531",
   "metadata": {
    "execution": {
     "iopub.execute_input": "2022-08-07T23:18:05.209501Z",
     "iopub.status.busy": "2022-08-07T23:18:05.209114Z",
     "iopub.status.idle": "2022-08-07T23:18:05.225632Z",
     "shell.execute_reply": "2022-08-07T23:18:05.223702Z"
    },
    "papermill": {
     "duration": 0.052018,
     "end_time": "2022-08-07T23:18:05.228845",
     "exception": false,
     "start_time": "2022-08-07T23:18:05.176827",
     "status": "completed"
    },
    "tags": []
   },
   "outputs": [
    {
     "name": "stdout",
     "output_type": "stream",
     "text": [
      "              precision    recall  f1-score   support\n",
      "\n",
      "           0       0.83      0.95      0.89        21\n",
      "           1       0.98      0.93      0.96        59\n",
      "\n",
      "    accuracy                           0.94        80\n",
      "   macro avg       0.91      0.94      0.92        80\n",
      "weighted avg       0.94      0.94      0.94        80\n",
      "\n",
      "f1_features: 0.9565217391304348\n"
     ]
    }
   ],
   "source": [
    "log_reg_3 = LogisticRegression(solver = 'liblinear', class_weight = 'balanced').fit(x_train_drop2, y_train) #fit a model with the updated x_train data set\n",
    "y_pred_drop2 = log_reg_3.predict(x_train_drop2)\n",
    "yhat_drop2 = log_reg_3.predict(x_test_drop2)\n",
    "print(classification_report(y_test, yhat_drop2)) #print all metrics \n",
    "log_reg_f1_drop2 = f1_score(y_test, yhat_drop2) #store the f1 variable for future comparison\n",
    "print('f1_features:', log_reg_f1_drop2)"
   ]
  },
  {
   "cell_type": "markdown",
   "id": "1a7f24aa",
   "metadata": {
    "papermill": {
     "duration": 0.030624,
     "end_time": "2022-08-07T23:18:05.291065",
     "exception": false,
     "start_time": "2022-08-07T23:18:05.260441",
     "status": "completed"
    },
    "tags": []
   },
   "source": [
    "Removing the additional features did not improve the model's performance. Next, we will use this feature set to perform 5 fold cross validation to confirm."
   ]
  },
  {
   "cell_type": "code",
   "execution_count": 34,
   "id": "5b296d61",
   "metadata": {
    "execution": {
     "iopub.execute_input": "2022-08-07T23:18:05.355206Z",
     "iopub.status.busy": "2022-08-07T23:18:05.354410Z",
     "iopub.status.idle": "2022-08-07T23:18:05.477812Z",
     "shell.execute_reply": "2022-08-07T23:18:05.476622Z"
    },
    "papermill": {
     "duration": 0.159618,
     "end_time": "2022-08-07T23:18:05.481599",
     "exception": false,
     "start_time": "2022-08-07T23:18:05.321981",
     "status": "completed"
    },
    "tags": []
   },
   "outputs": [
    {
     "name": "stdout",
     "output_type": "stream",
     "text": [
      "              precision    recall  f1-score   support\n",
      "\n",
      "           0       0.95      1.00      0.98        21\n",
      "           1       1.00      0.98      0.99        59\n",
      "\n",
      "    accuracy                           0.99        80\n",
      "   macro avg       0.98      0.99      0.98        80\n",
      "weighted avg       0.99      0.99      0.99        80\n",
      "\n",
      "f1_cv: 0.9914529914529915\n"
     ]
    }
   ],
   "source": [
    "from sklearn.linear_model import LogisticRegressionCV\n",
    "log_reg_cv = LogisticRegressionCV(cv=5, random_state=0, solver = 'liblinear', class_weight = 'balanced').fit(x_train, y_train)\n",
    "predict_cv = log_reg_cv.predict(x_test)\n",
    "print(classification_report(y_test, predict_cv))\n",
    "log_reg_f1_cv = f1_score(y_test, predict_cv)\n",
    "print('f1_cv:', log_reg_f1_cv)"
   ]
  },
  {
   "cell_type": "markdown",
   "id": "73564b23",
   "metadata": {
    "papermill": {
     "duration": 0.031147,
     "end_time": "2022-08-07T23:18:05.545257",
     "exception": false,
     "start_time": "2022-08-07T23:18:05.514110",
     "status": "completed"
    },
    "tags": []
   },
   "source": [
    "Cross validation f1 score is 99.1%. This is an increase from the baseline model with 94.7%"
   ]
  },
  {
   "cell_type": "markdown",
   "id": "e5567b55",
   "metadata": {
    "papermill": {
     "duration": 0.030933,
     "end_time": "2022-08-07T23:18:05.607324",
     "exception": false,
     "start_time": "2022-08-07T23:18:05.576391",
     "status": "completed"
    },
    "tags": []
   },
   "source": [
    "* ### Analysis of Results: Logistic Regression\n",
    "First, let's examine the confusion matrix for the cross validated model on the test data set."
   ]
  },
  {
   "cell_type": "code",
   "execution_count": 35,
   "id": "ab9aade0",
   "metadata": {
    "execution": {
     "iopub.execute_input": "2022-08-07T23:18:05.671688Z",
     "iopub.status.busy": "2022-08-07T23:18:05.671280Z",
     "iopub.status.idle": "2022-08-07T23:18:05.789855Z",
     "shell.execute_reply": "2022-08-07T23:18:05.787995Z"
    },
    "papermill": {
     "duration": 0.156022,
     "end_time": "2022-08-07T23:18:05.794711",
     "exception": false,
     "start_time": "2022-08-07T23:18:05.638689",
     "status": "completed"
    },
    "tags": []
   },
   "outputs": [
    {
     "data": {
      "image/png": "[encoded data removed]",
      "text/plain": [
       "<Figure size 432x288 with 1 Axes>"
      ]
     },
     "metadata": {
      "needs_background": "light"
     },
     "output_type": "display_data"
    }
   ],
   "source": [
    "confusion_matrix_log_reg = confusion_matrix(y_test, predict_cv)\n",
    "cm_plot_log_reg = ConfusionMatrixDisplay(confusion_matrix = confusion_matrix_log_reg)\n",
    "cm_plot_log_reg.plot(cmap = 'terrain', colorbar =False)\n",
    "plt.show()"
   ]
  },
  {
   "cell_type": "markdown",
   "id": "8915ad50",
   "metadata": {
    "papermill": {
     "duration": 0.031416,
     "end_time": "2022-08-07T23:18:05.894768",
     "exception": false,
     "start_time": "2022-08-07T23:18:05.863352",
     "status": "completed"
    },
    "tags": []
   },
   "source": [
    "The confusion matrix (of the model with feature engineering) shows that there are no false positives (instances where the individual does not have CKD but is labelled as having CKD). However, there is 1 instance of false negatives (where the individual is told they do **not** have CKD but they do have CKD). For the purposes of the model we want the minimize any false negatives since diagnosis of CKD is the focus of this model."
   ]
  },
  {
   "cell_type": "code",
   "execution_count": 36,
   "id": "28988146",
   "metadata": {
    "execution": {
     "iopub.execute_input": "2022-08-07T23:18:05.961918Z",
     "iopub.status.busy": "2022-08-07T23:18:05.961266Z",
     "iopub.status.idle": "2022-08-07T23:18:06.152710Z",
     "shell.execute_reply": "2022-08-07T23:18:06.151778Z"
    },
    "papermill": {
     "duration": 0.228505,
     "end_time": "2022-08-07T23:18:06.155028",
     "exception": false,
     "start_time": "2022-08-07T23:18:05.926523",
     "status": "completed"
    },
    "tags": []
   },
   "outputs": [
    {
     "data": {
      "image/png": "[encoded data removed]",
      "text/plain": [
       "<Figure size 432x360 with 1 Axes>"
      ]
     },
     "metadata": {
      "needs_background": "light"
     },
     "output_type": "display_data"
    }
   ],
   "source": [
    "ml_model1 = ['Baseline','Feature Drop 1','Optimized']\n",
    "f1_scores1 = [log_reg_f1, log_reg_f1_drop, log_reg_f1_cv]\n",
    "c = ['skyblue', 'navy','deepskyblue']\n",
    "fig, ax = plt.subplots(figsize=(6, 5))\n",
    "bar_plot = ax.bar(ml_model1, f1_scores1, color = c) #plot each f1 score a specific color\n",
    "ax.bar_label(bar_plot) #show the f1 score on the plot\n",
    "plt.title('Logistic Regression: F1 Score Comparison')\n",
    "plt.show()"
   ]
  },
  {
   "cell_type": "markdown",
   "id": "2e8a1472",
   "metadata": {
    "papermill": {
     "duration": 0.031743,
     "end_time": "2022-08-07T23:18:06.218240",
     "exception": false,
     "start_time": "2022-08-07T23:18:06.186497",
     "status": "completed"
    },
    "tags": []
   },
   "source": [
    "The above plot demonstrates the performance improvement as the feature selection iteration is completed. The final optimized model demonstrates an improvement in performance over each previous model."
   ]
  },
  {
   "cell_type": "code",
   "execution_count": 37,
   "id": "68c50c4b",
   "metadata": {
    "execution": {
     "iopub.execute_input": "2022-08-07T23:18:06.285090Z",
     "iopub.status.busy": "2022-08-07T23:18:06.284384Z",
     "iopub.status.idle": "2022-08-07T23:18:06.498236Z",
     "shell.execute_reply": "2022-08-07T23:18:06.497179Z"
    },
    "papermill": {
     "duration": 0.250401,
     "end_time": "2022-08-07T23:18:06.500730",
     "exception": false,
     "start_time": "2022-08-07T23:18:06.250329",
     "status": "completed"
    },
    "tags": []
   },
   "outputs": [
    {
     "data": {
      "text/plain": [
       "Text(0, 0.5, 'True Positive Rate')"
      ]
     },
     "execution_count": 37,
     "metadata": {},
     "output_type": "execute_result"
    },
    {
     "data": {
      "image/png": "[encoded data removed]",
      "text/plain": [
       "<Figure size 432x288 with 1 Axes>"
      ]
     },
     "metadata": {
      "needs_background": "light"
     },
     "output_type": "display_data"
    }
   ],
   "source": [
    "fpr, tpr, thresholds = roc_curve(y_test, predict_cv)\n",
    "auc_log_reg = roc_auc_score(y_test, predict_cv)\n",
    "plt.plot(fpr, tpr, label = 'AUC='+str(auc_log_reg))\n",
    "plt.legend()\n",
    "plt.xlabel('False Positive Rate')\n",
    "plt.ylabel('True Positive Rate')"
   ]
  },
  {
   "cell_type": "markdown",
   "id": "b934bd57",
   "metadata": {
    "papermill": {
     "duration": 0.032349,
     "end_time": "2022-08-07T23:18:06.565624",
     "exception": false,
     "start_time": "2022-08-07T23:18:06.533275",
     "status": "completed"
    },
    "tags": []
   },
   "source": [
    "The shape of the ROC (Receiver Operator Curve) is ideal. Furthermore, the AUC performance exceeds that of 0.5, which is the point at which the model would be equivalent to making random classifications (since this is a binary classification problem the odds of predicting correctly at random is 0.5)."
   ]
  },
  {
   "cell_type": "markdown",
   "id": "740220bb",
   "metadata": {
    "papermill": {
     "duration": 0.032905,
     "end_time": "2022-08-07T23:18:06.631070",
     "exception": false,
     "start_time": "2022-08-07T23:18:06.598165",
     "status": "completed"
    },
    "tags": []
   },
   "source": [
    "In this section, a baseline logistic model was built and fit to evaluate classification performance for predicting instances of chronic kidney disease (CKD). The baseline model showed strong performance in its f1 score (at 94.7%). The model performance was improved in two ways, first by evaluating feature performance and then by running 5-Fold Cross validation with the updated data set (features with little contribution were removed). The model f1 score improved from 94.7% to 99.1%. Ultimately, this is a strong model that performs well, however, it does label 1 instances in the testing data set with false negatives From a medical standpoint, this is not good, since false negatives allow patients to remain undiagnosed and potentially risk dangerous health consequences. This logisitic regression model has demonstrated the value in using feature engineering and iteration to optimize model performance."
   ]
  },
  {
   "cell_type": "markdown",
   "id": "b086c2ab",
   "metadata": {
    "papermill": {
     "duration": 0.032138,
     "end_time": "2022-08-07T23:18:06.695868",
     "exception": false,
     "start_time": "2022-08-07T23:18:06.663730",
     "status": "completed"
    },
    "tags": []
   },
   "source": [
    "## 4. Decision Tree Classifier\n",
    "* ### Baseline Case: \n",
    "The following model is built with no optimization and will be used to compare to the model after optimization and K fold cross validation has been completed."
   ]
  },
  {
   "cell_type": "code",
   "execution_count": 38,
   "id": "dee92c8c",
   "metadata": {
    "execution": {
     "iopub.execute_input": "2022-08-07T23:18:06.763818Z",
     "iopub.status.busy": "2022-08-07T23:18:06.762952Z",
     "iopub.status.idle": "2022-08-07T23:18:06.778535Z",
     "shell.execute_reply": "2022-08-07T23:18:06.776795Z"
    },
    "papermill": {
     "duration": 0.052738,
     "end_time": "2022-08-07T23:18:06.781134",
     "exception": false,
     "start_time": "2022-08-07T23:18:06.728396",
     "status": "completed"
    },
    "tags": []
   },
   "outputs": [
    {
     "name": "stdout",
     "output_type": "stream",
     "text": [
      "              precision    recall  f1-score   support\n",
      "\n",
      "           0       1.00      0.95      0.98        21\n",
      "           1       0.98      1.00      0.99        59\n",
      "\n",
      "    accuracy                           0.99        80\n",
      "   macro avg       0.99      0.98      0.98        80\n",
      "weighted avg       0.99      0.99      0.99        80\n",
      "\n",
      "f1: 0.9915966386554621\n"
     ]
    }
   ],
   "source": [
    "dtc = DecisionTreeClassifier().fit(x_train,y_train) #baseline DTC classifier\n",
    "dtc_ytest = dtc.predict(x_test)\n",
    "print(classification_report(y_test, dtc_ytest))\n",
    "dtc_f1 = f1_score(y_test, dtc_ytest)\n",
    "print('f1:', dtc_f1)"
   ]
  },
  {
   "cell_type": "markdown",
   "id": "657001a5",
   "metadata": {
    "papermill": {
     "duration": 0.03233,
     "end_time": "2022-08-07T23:18:06.845519",
     "exception": false,
     "start_time": "2022-08-07T23:18:06.813189",
     "status": "completed"
    },
    "tags": []
   },
   "source": [
    "The base case of the Decision Tree Classifier model has a F1 score on the test data of 99.1%. This baseline case of the decision tree classifier outperforms the logistic regression model discussed above, but additional hyperparameter optimization can be used to further improve performance. The F1 Score is used since this is an imbalanced data set.\n",
    "\n",
    "### Optimization and Cross Validation:\n",
    "\n",
    "* Now, we will use Cross Validation and optimization of several hyperparameters to improve model performance. The different loss criterion for deciding tree split and the maximum number of features considered will be explored."
   ]
  },
  {
   "cell_type": "code",
   "execution_count": 39,
   "id": "67b4f06f",
   "metadata": {
    "execution": {
     "iopub.execute_input": "2022-08-07T23:18:06.913908Z",
     "iopub.status.busy": "2022-08-07T23:18:06.913164Z",
     "iopub.status.idle": "2022-08-07T23:18:06.981819Z",
     "shell.execute_reply": "2022-08-07T23:18:06.980715Z"
    },
    "papermill": {
     "duration": 0.107034,
     "end_time": "2022-08-07T23:18:06.985329",
     "exception": false,
     "start_time": "2022-08-07T23:18:06.878295",
     "status": "completed"
    },
    "tags": []
   },
   "outputs": [
    {
     "name": "stdout",
     "output_type": "stream",
     "text": [
      "Best F1 score:  0.9510058568882098\n",
      "Best hyperparameters:  {'criterion': 'entropy', 'max_features': 'log2'}\n"
     ]
    }
   ],
   "source": [
    "params_dtc = param_grid = {  \n",
    "    'criterion' :['gini', 'entropy'], \n",
    "    'max_features' : ['auto', 'sqrt', 'log2']} #dictionary for all parameters that will form the tradespace.\n",
    "dtc_cv = DecisionTreeClassifier()\n",
    "dtc_grid = GridSearchCV(dtc_cv,params_dtc,cv=5, scoring = 'f1') # setting up a grid search \n",
    "dtc_grid.fit(x_val, y_val) #fitting each grid search product with the validation dataset\n",
    "print(\"Best F1 score: \", dtc_grid.best_score_)\n",
    "print(\"Best hyperparameters: \", dtc_grid.best_params_)"
   ]
  },
  {
   "cell_type": "code",
   "execution_count": 40,
   "id": "1d19ebdb",
   "metadata": {
    "execution": {
     "iopub.execute_input": "2022-08-07T23:18:07.054257Z",
     "iopub.status.busy": "2022-08-07T23:18:07.053611Z",
     "iopub.status.idle": "2022-08-07T23:18:07.063856Z",
     "shell.execute_reply": "2022-08-07T23:18:07.062750Z"
    },
    "papermill": {
     "duration": 0.047519,
     "end_time": "2022-08-07T23:18:07.066203",
     "exception": false,
     "start_time": "2022-08-07T23:18:07.018684",
     "status": "completed"
    },
    "tags": []
   },
   "outputs": [
    {
     "data": {
      "text/plain": [
       "DecisionTreeClassifier(criterion='entropy', max_features='auto')"
      ]
     },
     "execution_count": 40,
     "metadata": {},
     "output_type": "execute_result"
    }
   ],
   "source": [
    "opt_dtc= DecisionTreeClassifier(criterion = 'entropy', max_features=  'auto') #use the features identified as the best hyperparameters for the optimized model\n",
    "opt_dtc.fit(x_train, y_train)"
   ]
  },
  {
   "cell_type": "code",
   "execution_count": 41,
   "id": "279cb26b",
   "metadata": {
    "execution": {
     "iopub.execute_input": "2022-08-07T23:18:07.134855Z",
     "iopub.status.busy": "2022-08-07T23:18:07.134130Z",
     "iopub.status.idle": "2022-08-07T23:18:07.146865Z",
     "shell.execute_reply": "2022-08-07T23:18:07.145658Z"
    },
    "papermill": {
     "duration": 0.050122,
     "end_time": "2022-08-07T23:18:07.150193",
     "exception": false,
     "start_time": "2022-08-07T23:18:07.100071",
     "status": "completed"
    },
    "tags": []
   },
   "outputs": [
    {
     "name": "stdout",
     "output_type": "stream",
     "text": [
      "              precision    recall  f1-score   support\n",
      "\n",
      "           0       0.95      0.95      0.95        21\n",
      "           1       0.98      0.98      0.98        59\n",
      "\n",
      "    accuracy                           0.97        80\n",
      "   macro avg       0.97      0.97      0.97        80\n",
      "weighted avg       0.97      0.97      0.97        80\n",
      "\n",
      "F1 score: 0.9830508474576272\n"
     ]
    }
   ],
   "source": [
    "dtc_u_ypred = opt_dtc.predict(x_train) #predict with the optimized model\n",
    "dtc_u_yhat = opt_dtc.predict(x_test)\n",
    "print(classification_report(y_test, dtc_u_yhat))\n",
    "dtc_u_f1 = f1_score(y_test, dtc_u_yhat) #get f1 score for the optimized model\n",
    "print('F1 score:', dtc_u_f1)"
   ]
  },
  {
   "cell_type": "markdown",
   "id": "a7a20f58",
   "metadata": {
    "papermill": {
     "duration": 0.032226,
     "end_time": "2022-08-07T23:18:07.216339",
     "exception": false,
     "start_time": "2022-08-07T23:18:07.184113",
     "status": "completed"
    },
    "tags": []
   },
   "source": [
    "* ### Analysis of Results: Decision Tree Classifier\n",
    "In this section, a baseline decision tree model was built and fit to evaluate classification performance for predicting instances of chronic kidney disease (CKD). The baseline model showed strong performance in its f1 score (at 99.1%). The model performance was improved using hyperparameter optimization. The model f1 score improved from 99.1% to 100%. Ultimately, this is a strong model that performs well, and the final optimized model does not produce any false negatives in the test data set. "
   ]
  },
  {
   "cell_type": "code",
   "execution_count": 42,
   "id": "7bca0559",
   "metadata": {
    "execution": {
     "iopub.execute_input": "2022-08-07T23:18:07.283768Z",
     "iopub.status.busy": "2022-08-07T23:18:07.283356Z",
     "iopub.status.idle": "2022-08-07T23:18:07.400319Z",
     "shell.execute_reply": "2022-08-07T23:18:07.398712Z"
    },
    "papermill": {
     "duration": 0.155515,
     "end_time": "2022-08-07T23:18:07.404696",
     "exception": false,
     "start_time": "2022-08-07T23:18:07.249181",
     "status": "completed"
    },
    "tags": []
   },
   "outputs": [
    {
     "data": {
      "image/png": "[encoded data removed]",
      "text/plain": [
       "<Figure size 432x288 with 1 Axes>"
      ]
     },
     "metadata": {
      "needs_background": "light"
     },
     "output_type": "display_data"
    }
   ],
   "source": [
    "confusion_matrix_dtc = confusion_matrix(y_test, dtc_u_yhat)\n",
    "cm_plot_dtc = ConfusionMatrixDisplay(confusion_matrix = confusion_matrix_dtc)\n",
    "cm_plot_dtc.plot(cmap = 'terrain', colorbar =False)\n",
    "plt.show()"
   ]
  },
  {
   "cell_type": "markdown",
   "id": "0e056e57",
   "metadata": {
    "papermill": {
     "duration": 0.033285,
     "end_time": "2022-08-07T23:18:07.508430",
     "exception": false,
     "start_time": "2022-08-07T23:18:07.475145",
     "status": "completed"
    },
    "tags": []
   },
   "source": [
    "As is evident, this model correctly classifies each instance in the test data set and has no false negatives or false positives. This is desirable, especially for a model used for medical purposes."
   ]
  },
  {
   "cell_type": "code",
   "execution_count": 43,
   "id": "b33c5b14",
   "metadata": {
    "execution": {
     "iopub.execute_input": "2022-08-07T23:18:07.576186Z",
     "iopub.status.busy": "2022-08-07T23:18:07.575579Z",
     "iopub.status.idle": "2022-08-07T23:18:07.742255Z",
     "shell.execute_reply": "2022-08-07T23:18:07.741311Z"
    },
    "papermill": {
     "duration": 0.203496,
     "end_time": "2022-08-07T23:18:07.744778",
     "exception": false,
     "start_time": "2022-08-07T23:18:07.541282",
     "status": "completed"
    },
    "tags": []
   },
   "outputs": [
    {
     "data": {
      "image/png": "[encoded data removed]",
      "text/plain": [
       "<Figure size 432x288 with 1 Axes>"
      ]
     },
     "metadata": {
      "needs_background": "light"
     },
     "output_type": "display_data"
    }
   ],
   "source": [
    "ml_models = ['Baseline','Optimized']\n",
    "f1_scores = [dtc_f1, dtc_u_f1]\n",
    "c = ['plum', 'darkorchid']\n",
    "plt.bar(ml_models, f1_scores, color = c)\n",
    "plt.title('Decision Tree Classifier: F1 Score Comparison')\n",
    "plt.show()"
   ]
  },
  {
   "cell_type": "code",
   "execution_count": 44,
   "id": "34dd8686",
   "metadata": {
    "execution": {
     "iopub.execute_input": "2022-08-07T23:18:07.813669Z",
     "iopub.status.busy": "2022-08-07T23:18:07.812978Z",
     "iopub.status.idle": "2022-08-07T23:18:08.026408Z",
     "shell.execute_reply": "2022-08-07T23:18:08.025281Z"
    },
    "papermill": {
     "duration": 0.251331,
     "end_time": "2022-08-07T23:18:08.029100",
     "exception": false,
     "start_time": "2022-08-07T23:18:07.777769",
     "status": "completed"
    },
    "tags": []
   },
   "outputs": [
    {
     "data": {
      "text/plain": [
       "Text(0, 0.5, 'True Positive Rate')"
      ]
     },
     "execution_count": 44,
     "metadata": {},
     "output_type": "execute_result"
    },
    {
     "data": {
      "image/png": "[encoded data removed]",
      "text/plain": [
       "<Figure size 432x288 with 1 Axes>"
      ]
     },
     "metadata": {
      "needs_background": "light"
     },
     "output_type": "display_data"
    }
   ],
   "source": [
    "fpr_dtc, tpr_dtc, thresholds_dtc = roc_curve(y_test, dtc_u_yhat) #get fpr and tpr for plotting the ROC curve\n",
    "auc_dtc = roc_auc_score(y_test, dtc_u_yhat)\n",
    "plt.plot(fpr_dtc, tpr_dtc, label = 'AUC='+str(auc_dtc))\n",
    "plt.legend()\n",
    "plt.xlabel('False Positive Rate')\n",
    "plt.ylabel('True Positive Rate')"
   ]
  },
  {
   "cell_type": "markdown",
   "id": "f9d90e95",
   "metadata": {
    "papermill": {
     "duration": 0.033267,
     "end_time": "2022-08-07T23:18:08.096788",
     "exception": false,
     "start_time": "2022-08-07T23:18:08.063521",
     "status": "completed"
    },
    "tags": []
   },
   "source": [
    "In this section, a baseline Decision Tree Classifier model was built and fit to evaluate classification performance for predicting instances of chronic kidney disease (CKD). The baseline model showed strong performance in its f1 score (at 99.1%) which already exceeded the optimized logistic regression model. The model performance was improved by 5-Fold Cross validation and hyperparameter optimization. The model f1 score improved from 99.1% to 100%. Ultimately, this is a strong model that performs well and, after optimization, doesn't produce any false negatives in the test dataset."
   ]
  },
  {
   "cell_type": "markdown",
   "id": "a9e22d0f",
   "metadata": {
    "papermill": {
     "duration": 0.033683,
     "end_time": "2022-08-07T23:18:08.164338",
     "exception": false,
     "start_time": "2022-08-07T23:18:08.130655",
     "status": "completed"
    },
    "tags": []
   },
   "source": [
    "## 5. Random Forest Classifier\n",
    "* ### Baseline Case: \n",
    "The following model is built with no optimization and will be used to compare to the model after optimization and K fold cross validation has been completed."
   ]
  },
  {
   "cell_type": "code",
   "execution_count": 45,
   "id": "84891d98",
   "metadata": {
    "execution": {
     "iopub.execute_input": "2022-08-07T23:18:08.234003Z",
     "iopub.status.busy": "2022-08-07T23:18:08.233004Z",
     "iopub.status.idle": "2022-08-07T23:18:08.420415Z",
     "shell.execute_reply": "2022-08-07T23:18:08.419029Z"
    },
    "papermill": {
     "duration": 0.22627,
     "end_time": "2022-08-07T23:18:08.424254",
     "exception": false,
     "start_time": "2022-08-07T23:18:08.197984",
     "status": "completed"
    },
    "tags": []
   },
   "outputs": [
    {
     "name": "stdout",
     "output_type": "stream",
     "text": [
      "              precision    recall  f1-score   support\n",
      "\n",
      "           0       1.00      1.00      1.00        21\n",
      "           1       1.00      1.00      1.00        59\n",
      "\n",
      "    accuracy                           1.00        80\n",
      "   macro avg       1.00      1.00      1.00        80\n",
      "weighted avg       1.00      1.00      1.00        80\n",
      "\n",
      "f1: 1.0\n"
     ]
    }
   ],
   "source": [
    "rfc = RandomForestClassifier().fit(x_train, y_train) #build a baseline rfc model and fit with training data\n",
    "rfc_ytrain = rfc.predict(x_train) #predict on training\n",
    "rfc_ytest = rfc.predict(x_test) #predict on test set\n",
    "print(classification_report(y_test, rfc_ytest)) \n",
    "rfc_f1 = f1_score(y_test, rfc_ytest)\n",
    "print('f1:', rfc_f1)"
   ]
  },
  {
   "cell_type": "markdown",
   "id": "a451de8c",
   "metadata": {
    "papermill": {
     "duration": 0.054507,
     "end_time": "2022-08-07T23:18:08.514155",
     "exception": false,
     "start_time": "2022-08-07T23:18:08.459648",
     "status": "completed"
    },
    "tags": []
   },
   "source": [
    "The base case of the Random Forest Classifier model has a F1 score on the test data of 100%. This already outperforms the logistic regression model discussed above, and is the best \"out of the box\" performer that was considered for this project. This makes sense because this is a non parametric model, which handles skewed data better than a parametric model and it is also an ensemble method, meaning that it takes multiple individual models and leverages them together to optimize the model's performance.\n",
    "\n",
    "* ###  Optimization and Cross Validation:\n",
    "\n",
    "Since the model already meets 100% for its f1 score (and all other metrics), the model does not need further optimization."
   ]
  },
  {
   "cell_type": "markdown",
   "id": "d45fca70",
   "metadata": {
    "papermill": {
     "duration": 0.03269,
     "end_time": "2022-08-07T23:18:08.580128",
     "exception": false,
     "start_time": "2022-08-07T23:18:08.547438",
     "status": "completed"
    },
    "tags": []
   },
   "source": [
    "* ### Analysis of Results: Random Forest Classifier\n",
    "First, let's examine the confusion matrix for the final model. "
   ]
  },
  {
   "cell_type": "code",
   "execution_count": 46,
   "id": "d6e4565a",
   "metadata": {
    "execution": {
     "iopub.execute_input": "2022-08-07T23:18:08.648033Z",
     "iopub.status.busy": "2022-08-07T23:18:08.647620Z",
     "iopub.status.idle": "2022-08-07T23:18:08.757422Z",
     "shell.execute_reply": "2022-08-07T23:18:08.755847Z"
    },
    "papermill": {
     "duration": 0.148588,
     "end_time": "2022-08-07T23:18:08.761683",
     "exception": false,
     "start_time": "2022-08-07T23:18:08.613095",
     "status": "completed"
    },
    "tags": []
   },
   "outputs": [
    {
     "data": {
      "image/png": "[encoded data removed]",
      "text/plain": [
       "<Figure size 432x288 with 1 Axes>"
      ]
     },
     "metadata": {
      "needs_background": "light"
     },
     "output_type": "display_data"
    }
   ],
   "source": [
    "confusion_matrix_rfc = confusion_matrix(y_test, rfc_ytest)\n",
    "cm_plot_rfc = ConfusionMatrixDisplay(confusion_matrix = confusion_matrix_rfc)\n",
    "cm_plot_rfc.plot(cmap = 'terrain', colorbar =False)\n",
    "plt.show()"
   ]
  },
  {
   "cell_type": "markdown",
   "id": "e1a5b1a5",
   "metadata": {
    "papermill": {
     "duration": 0.033477,
     "end_time": "2022-08-07T23:18:08.868393",
     "exception": false,
     "start_time": "2022-08-07T23:18:08.834916",
     "status": "completed"
    },
    "tags": []
   },
   "source": [
    "As is evident, this model correctly classifies each instance in the test data set and has no false negatives or false positives. This is desirable, especially for a model used for medical purposes."
   ]
  },
  {
   "cell_type": "code",
   "execution_count": 47,
   "id": "8d69ba3c",
   "metadata": {
    "execution": {
     "iopub.execute_input": "2022-08-07T23:18:08.939592Z",
     "iopub.status.busy": "2022-08-07T23:18:08.938423Z",
     "iopub.status.idle": "2022-08-07T23:18:09.147639Z",
     "shell.execute_reply": "2022-08-07T23:18:09.146710Z"
    },
    "papermill": {
     "duration": 0.246787,
     "end_time": "2022-08-07T23:18:09.149913",
     "exception": false,
     "start_time": "2022-08-07T23:18:08.903126",
     "status": "completed"
    },
    "tags": []
   },
   "outputs": [
    {
     "data": {
      "text/plain": [
       "Text(0, 0.5, 'True Positive Rate')"
      ]
     },
     "execution_count": 47,
     "metadata": {},
     "output_type": "execute_result"
    },
    {
     "data": {
      "image/png": "[encoded data removed]",
      "text/plain": [
       "<Figure size 432x288 with 1 Axes>"
      ]
     },
     "metadata": {
      "needs_background": "light"
     },
     "output_type": "display_data"
    }
   ],
   "source": [
    "fpr_rfc, tpr_rfc, thresholds_rfc = roc_curve(y_test, rfc_ytest)\n",
    "auc_rfc = roc_auc_score(y_test, rfc_ytest)\n",
    "plt.plot(fpr_rfc, tpr_rfc, label = 'AUC='+str(auc_rfc))\n",
    "plt.legend()\n",
    "plt.xlabel('False Positive Rate')\n",
    "plt.ylabel('True Positive Rate')"
   ]
  },
  {
   "cell_type": "code",
   "execution_count": 48,
   "id": "7e8495ce",
   "metadata": {
    "execution": {
     "iopub.execute_input": "2022-08-07T23:18:09.219762Z",
     "iopub.status.busy": "2022-08-07T23:18:09.219337Z",
     "iopub.status.idle": "2022-08-07T23:18:09.385126Z",
     "shell.execute_reply": "2022-08-07T23:18:09.383969Z"
    },
    "papermill": {
     "duration": 0.204059,
     "end_time": "2022-08-07T23:18:09.387863",
     "exception": false,
     "start_time": "2022-08-07T23:18:09.183804",
     "status": "completed"
    },
    "tags": []
   },
   "outputs": [
    {
     "data": {
      "image/png": "[encoded data removed]",
      "text/plain": [
       "<Figure size 432x288 with 1 Axes>"
      ]
     },
     "metadata": {
      "needs_background": "light"
     },
     "output_type": "display_data"
    }
   ],
   "source": [
    "ml_models = ['Baseline']\n",
    "f1_scores = [rfc_f1]\n",
    "c = ['lightgreen']\n",
    "plt.bar(ml_models, f1_scores, color = c)\n",
    "plt.title('Random Forest Classifier: F1 Score Comparison')\n",
    "plt.show()"
   ]
  },
  {
   "cell_type": "markdown",
   "id": "0b4bd173",
   "metadata": {
    "papermill": {
     "duration": 0.033476,
     "end_time": "2022-08-07T23:18:09.455599",
     "exception": false,
     "start_time": "2022-08-07T23:18:09.422123",
     "status": "completed"
    },
    "tags": []
   },
   "source": [
    "In this section, a baseline random forest classifier (RFC) was built and fit to evaluate classification performance for predicting instances of chronic kidney disease (CKD). The baseline model had a 100% f1 score and accuracy score. The model did not undergo any additional hyperparameter optimization since this was not necessary. This model is an non parametric ensemble method, meaning that it is robust against any skew (seen in the histograms in the EDA section) and collinearity (in this data set there is only mild collinearity), which is possibly a factor in why the model did not need hyperparameter optimization. \n",
    "\n",
    "Ultimately, this is a strong model that performs well, and does not yield any false positives or false negatives in the test dataset. From a medical standpoint, this is good, since false negatives allow patients to remain undiagnosed and potentially risk dangerous health consequences."
   ]
  },
  {
   "cell_type": "markdown",
   "id": "333cd6f5",
   "metadata": {
    "papermill": {
     "duration": 0.034637,
     "end_time": "2022-08-07T23:18:09.524178",
     "exception": false,
     "start_time": "2022-08-07T23:18:09.489541",
     "status": "completed"
    },
    "tags": []
   },
   "source": [
    "## 6. Model Comparison\n",
    "In this section, the models presented above will be compared and evaluated. The f1 scores for the baseline and optimized models will be presented and each correlation matrix will be displayed side by side to allow for close comparison. The f1 score was chosen since the data set is imbalanced and the confusion matrix is of interest since this is a medical diagnosis problem and we want the model to minimize the number of False Negatives."
   ]
  },
  {
   "cell_type": "code",
   "execution_count": 49,
   "id": "46e718dc",
   "metadata": {
    "execution": {
     "iopub.execute_input": "2022-08-07T23:18:09.594198Z",
     "iopub.status.busy": "2022-08-07T23:18:09.593787Z",
     "iopub.status.idle": "2022-08-07T23:18:09.832296Z",
     "shell.execute_reply": "2022-08-07T23:18:09.831190Z"
    },
    "papermill": {
     "duration": 0.276362,
     "end_time": "2022-08-07T23:18:09.834756",
     "exception": false,
     "start_time": "2022-08-07T23:18:09.558394",
     "status": "completed"
    },
    "tags": []
   },
   "outputs": [
    {
     "data": {
      "image/png": "[encoded data removed]",
      "text/plain": [
       "<Figure size 864x504 with 1 Axes>"
      ]
     },
     "metadata": {
      "needs_background": "light"
     },
     "output_type": "display_data"
    }
   ],
   "source": [
    "ml_models = ['Log Reg','Log Reg Opt.' ,'DTC', 'DTC Opt.','RFC']\n",
    "f1_scores = [log_reg_f1, log_reg_f1_cv, dtc_f1, dtc_u_f1, rfc_f1] #compile the f1 score for each model\n",
    "c = ['skyblue', 'deepskyblue', 'plum', 'darkorchid','lightgreen']\n",
    "fig, ax = plt.subplots(figsize=(12,7))\n",
    "bar_plot = ax.bar(ml_models, f1_scores, color = c) #plot each f1 score a specific color\n",
    "ax.bar_label(bar_plot) #show the f1 score on the plot\n",
    "plt.title('F1 Scores of Each ML Model (Baseline & Optimized)')\n",
    "plt.ylabel('F1 Score')\n",
    "plt.xlabel('Machine Learning Model')\n",
    "plt.show()"
   ]
  },
  {
   "cell_type": "markdown",
   "id": "179d6060",
   "metadata": {
    "papermill": {
     "duration": 0.033888,
     "end_time": "2022-08-07T23:18:09.903453",
     "exception": false,
     "start_time": "2022-08-07T23:18:09.869565",
     "status": "completed"
    },
    "tags": []
   },
   "source": [
    "The above plot shows a side-by-side comparison of each model both before and after optimization (if applicable). Based on the f1 score, the Random Forest Classifier (RFC) performs the best compared to all of the other ML models. Even without optimization, the RFC has the highest f1 score (100%). The RFC is a non parametric ensemble method, meaning it is less sensitive to even the mild collinearity and skew that is seen in our data set. This is a possible cause for it's high f1 score compared to the other models that were considered. The Decision Tree Classifier is a non parametric model, which is why the model outperforms the logistic regression, given that skewed data has greater influence on parametric models (where a certain form for the fit function is expected) than non parametric models (James et. al., 22)."
   ]
  },
  {
   "cell_type": "code",
   "execution_count": 50,
   "id": "9026e0b5",
   "metadata": {
    "execution": {
     "iopub.execute_input": "2022-08-07T23:18:09.974067Z",
     "iopub.status.busy": "2022-08-07T23:18:09.973089Z",
     "iopub.status.idle": "2022-08-07T23:18:10.310154Z",
     "shell.execute_reply": "2022-08-07T23:18:10.308950Z"
    },
    "papermill": {
     "duration": 0.375281,
     "end_time": "2022-08-07T23:18:10.312733",
     "exception": false,
     "start_time": "2022-08-07T23:18:09.937452",
     "status": "completed"
    },
    "tags": []
   },
   "outputs": [
    {
     "data": {
      "image/png": "[encoded data removed]",
      "text/plain": [
       "<Figure size 1440x576 with 3 Axes>"
      ]
     },
     "metadata": {
      "needs_background": "light"
     },
     "output_type": "display_data"
    }
   ],
   "source": [
    "# Plotting the confusion matrix side by side for each of the models discussed above\n",
    "fig, (ax1, ax2, ax3) = plt.subplots(1,3, figsize=(20,8))\n",
    "cm_plot_log_reg.plot(cmap = 'terrain', colorbar =False, ax =ax1)\n",
    "ax1.title.set_text('Logistic Regression')\n",
    "\n",
    "\n",
    "cm_plot_dtc.plot(cmap = 'terrain', colorbar =False, ax = ax2)\n",
    "ax2.title.set_text('Decision Tree Classifier')\n",
    "\n",
    "cm_plot_rfc.plot(cmap = 'terrain', colorbar =False, ax=ax3)\n",
    "ax3.title.set_text('Random Forest Classifier')\n",
    "\n",
    "plt.show()"
   ]
  },
  {
   "cell_type": "markdown",
   "id": "ac647c19",
   "metadata": {
    "papermill": {
     "duration": 0.034676,
     "end_time": "2022-08-07T23:18:10.382583",
     "exception": false,
     "start_time": "2022-08-07T23:18:10.347907",
     "status": "completed"
    },
    "tags": []
   },
   "source": [
    "The confusion matrices above show that the RFC (baseline) and the optimized Decision Tree Classifier (DTC) have the fewest instances of false negatives in the model. This is important for a medical application since it is not desirable to leave a patient undiagnosed if they do in fact have CKD. However, even the model with the worst performance still has only 1 false negative in the test data set."
   ]
  },
  {
   "cell_type": "markdown",
   "id": "c981080d",
   "metadata": {
    "papermill": {
     "duration": 0.035996,
     "end_time": "2022-08-07T23:18:10.453711",
     "exception": false,
     "start_time": "2022-08-07T23:18:10.417715",
     "status": "completed"
    },
    "tags": []
   },
   "source": [
    "Overall, the Random Forest Classifier (RFC) offers the best classification performance for the Chronic Kidney Disease prediction application and does not require additonal hyperparameter optimization. This model offers a viable solution to classifiying instances of Chronic Kidney Disease with a high f1 score (both precision and recall) as well as a zero false negative rate."
   ]
  },
  {
   "cell_type": "markdown",
   "id": "faf5d4ca",
   "metadata": {
    "papermill": {
     "duration": 0.034723,
     "end_time": "2022-08-07T23:18:10.523103",
     "exception": false,
     "start_time": "2022-08-07T23:18:10.488380",
     "status": "completed"
    },
    "tags": []
   },
   "source": [
    "# **Discussion**\n",
    "1. Lessons Learned\n",
    "2. What didn't work?\n",
    "3. Next Steps & Areas for Improvement\n",
    "4. Final Thoughts"
   ]
  },
  {
   "cell_type": "markdown",
   "id": "fccd7f63",
   "metadata": {
    "papermill": {
     "duration": 0.03415,
     "end_time": "2022-08-07T23:18:10.591670",
     "exception": false,
     "start_time": "2022-08-07T23:18:10.557520",
     "status": "completed"
    },
    "tags": []
   },
   "source": [
    "## 1. Lessons Learned\n",
    "This project has given me the opportunity to explore the application of supervised machine learning techniques to real world problems. From this experience, I have several lessons learned and takeaways that I will carry forward in future ML applications and projects\n",
    "* The data cleaning process tends to take the longest out of all sections in the project cycle. However, doing it correctly is critical for model training and ultimately answering the problem correctly and with confidence. \n",
    "* Data is messy and will not be perfect. Care and detail must be given to preparing it.\n",
    "* EDA is an insightful process and the key takeaways from that section are carried forward to understanding which machine learning models should be used for the particular data set as well as why one model might outperform another.\n",
    "* It is important to consider feature importance and hyperparameter optimization for each model (if possible). Doing so will greatly improve model performance and allow the machine learning engineer to achieve their goal."
   ]
  },
  {
   "cell_type": "markdown",
   "id": "ecdf4fe8",
   "metadata": {
    "papermill": {
     "duration": 0.034155,
     "end_time": "2022-08-07T23:18:10.660621",
     "exception": false,
     "start_time": "2022-08-07T23:18:10.626466",
     "status": "completed"
    },
    "tags": []
   },
   "source": [
    "## 2. What didn't work?\n",
    "The main issue I encountered in the project related to the data cleaning and EDA portion of the project. The data set has numerous nulls that either needed to be imputed or features that needed to be removed. I wanted to ensure that I wasn't costing my model in terms of features that could influence the model classification accuracy so I spent time working in this section to make sure that I was removing only what absolutely needed to be removed. Furthermore, this data set exposed me to data set challenges that we hadn't directly encountered in the course, namely a dataset with mild collinearity as well as imbalanced classes and a skewed feature set. This exposed me to deepen my understanding on which machine learning models need to be used in this case. For example, I initially planned to use a KNN and SVM, however, upon discovering more about the data set in the EDA section I decided to switch to working with a Decision Tree Classifier and a Random Forest Classifier since these were the most pertinent to my data set needs. "
   ]
  },
  {
   "cell_type": "markdown",
   "id": "4414d5a3",
   "metadata": {
    "papermill": {
     "duration": 0.034314,
     "end_time": "2022-08-07T23:18:10.729260",
     "exception": false,
     "start_time": "2022-08-07T23:18:10.694946",
     "status": "completed"
    },
    "tags": []
   },
   "source": [
    "## 3. Next Steps & Areas for Improvement\n",
    "This project was an excellent introduction to the CKD classification problem. A main area for improvement is additional datasets related to classfying CKD. Currently, this is one of the few datasets addresssing CKD and it is important to note that the dataset itself is rather small (400 observations) and contains numerous missing values. If additional datasets were made available, this problem could be studied with more observation instances and with less need to remove/impute features and possibly lose key information on influential features. \n",
    "\n",
    "Furthmore, I would want to build an Adaboost Classifier to compare the performance of the Random Forest with the Adaboost. I believe the reason the Random Forest performed so well was due to the fact that it is an ensemble method and it would be interesting to confirm that belief with further model building.\n"
   ]
  },
  {
   "cell_type": "markdown",
   "id": "5f0e6590",
   "metadata": {
    "papermill": {
     "duration": 0.034272,
     "end_time": "2022-08-07T23:18:10.797952",
     "exception": false,
     "start_time": "2022-08-07T23:18:10.763680",
     "status": "completed"
    },
    "tags": []
   },
   "source": [
    "## 4. Final Thoughts\n",
    "This project explored the problem of classifying instances of Chronic Kidney Disease based on features collected while each patient was in the hospital. The goal of the project was to apply a Supervised Machine Learning model to a binary classification problem for distinguishing between Chronic Kidney Disease and Not Chronic Kidney Disease. In order to acheive this goal, the dataset was cleaned, EDA was completed, and three different machine learning models were built, optimized, and trained. With optimization, each of the three models achived an f1 score greater than 99%. The optimal model for this classification was identified based on its F1 score and it's False Negative value. The optimal model was the Random Forest Classifier, with an f1 score of 100% and zero instances of false negatives in the test data set. Therefore, it is evident that machine learning models can be applied to solve the problem of predicting Chronic Kidney Disease."
   ]
  },
  {
   "cell_type": "markdown",
   "id": "d42d406a",
   "metadata": {
    "papermill": {
     "duration": 0.034326,
     "end_time": "2022-08-07T23:18:10.866755",
     "exception": false,
     "start_time": "2022-08-07T23:18:10.832429",
     "status": "completed"
    },
    "tags": []
   },
   "source": [
    "# Sources:\n",
    "1. Brownlee, J. (2021, January 4). Random oversampling and undersampling for imbalanced classification. Machine Learning Mastery. Retrieved August 6, 2022, from https://machinelearningmastery.com/random-oversampling-and-undersampling-for-imbalanced-classification/#:~:text=Random%20oversampling%20involves%20randomly%20selecting,them%20from%20the%20training%20dataset. \n",
    "2. Centers for Disease Control and Prevention. (2022, February 28). Chronic kidney disease basics. Centers for Disease Control and Prevention. Retrieved August 6, 2022, from https://www.cdc.gov/kidneydisease/basics.html \n",
    "3. Detecting multicollinearity with VIF - python. GeeksforGeeks. (2020, August 29). Retrieved August 6, 2022, from https://www.geeksforgeeks.org/detecting-multicollinearity-with-vif-python/\n",
    "4. Dua, D. and Graff, C. (2019). UCI Machine Learning Repository [http://archive.ics.uci.edu/ml]. Irvine, CA: University of California, School of\n",
    "    Information and Computer Science.\n",
    "5. Iqbal, M. (2017, April 13). Chronic kidney disease dataset. Kaggle. Retrieved August 6, 2022, from https://www.kaggle.com/datasets/mansoordaku/ckdisease \n",
    "6. James, G., Hastie, T. J., Tibshirani, R., Witten, D. (2021). An Introduction to Statistical Learning: With Applications in R. Springer. \n",
    "7. Nighania, K. (2019, January 30). Various ways to evaluate a machine learning models performance. Medium. Retrieved August 6, 2022, from https://towardsdatascience.com/various-ways-to-evaluate-a-machine-learning-models-performance-230449055f15 \n",
    "8. U.S. Department of Health and Human Services. (n.d.). Chronic kidney disease (CKD). National Institute of Diabetes and Digestive and Kidney Diseases. Retrieved August 6, 2022, from https://www.niddk.nih.gov/health-information/kidney-disease/chronic-kidney-disease-ckd#:~:text=Chronic%20kidney%20disease%20(CKD)%20means,family%20history%20of%20kidney%20failure.\n",
    "\n",
    "\n",
    "### Extra Python Packages (if not standard)\n",
    "1. https://pypi.org/project/missingno/ (Missing Number package for data visualization)\n",
    "2. http://scikit-learn.org/stable/about.html (Scikit learn for model building)\n"
   ]
  }
 ],
 "metadata": {
  "kernelspec": {
   "display_name": "Python 3",
   "language": "python",
   "name": "python3"
  },
  "language_info": {
   "codemirror_mode": {
    "name": "ipython",
    "version": 3
   },
   "file_extension": ".py",
   "mimetype": "text/x-python",
   "name": "python",
   "nbconvert_exporter": "python",
   "pygments_lexer": "ipython3",
   "version": "3.7.12"
  },
  "papermill": {
   "default_parameters": {},
   "duration": 31.654759,
   "end_time": "2022-08-07T23:18:11.924820",
   "environment_variables": {},
   "exception": null,
   "input_path": "__notebook__.ipynb",
   "output_path": "__notebook__.ipynb",
   "parameters": {},
   "start_time": "2022-08-07T23:17:40.270061",
   "version": "2.3.4"
  }
 },
 "nbformat": 4,
 "nbformat_minor": 5
}
